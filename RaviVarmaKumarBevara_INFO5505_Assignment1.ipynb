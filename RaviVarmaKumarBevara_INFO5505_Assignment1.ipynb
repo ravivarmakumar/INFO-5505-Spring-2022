{
  "nbformat": 4,
  "nbformat_minor": 0,
  "metadata": {
    "colab": {
      "name": "RaviVarmaKumarBevara_INFO5505_Assignment1.ipynb",
      "provenance": [],
      "collapsed_sections": [
        "KB7PvCM9t8KF",
        "ugMxgo98Dyjy",
        "1yIMSsEWEd20"
      ],
      "include_colab_link": true
    },
    "kernelspec": {
      "name": "python3",
      "display_name": "Python 3"
    },
    "language_info": {
      "name": "python"
    }
  },
  "cells": [
    {
      "cell_type": "markdown",
      "metadata": {
        "id": "view-in-github",
        "colab_type": "text"
      },
      "source": [
        "<a href=\"https://colab.research.google.com/github/ravivarmakumar/INFO-5505-Spring-2022/blob/main/RaviVarmaKumarBevara_INFO5505_Assignment1.ipynb\" target=\"_parent\"><img src=\"https://colab.research.google.com/assets/colab-badge.svg\" alt=\"Open In Colab\"/></a>"
      ]
    },
    {
      "cell_type": "markdown",
      "source": [
        "# INFO-5505 Applied Machine Learning for Data Scientists\n",
        "\n",
        "\n",
        "### Assignment 1 - Linear Regression\n",
        "\n",
        "\n",
        "- Name: Ravi Varma Kumar Bevara\n",
        "- Student ID : 11476678"
      ],
      "metadata": {
        "id": "pFTOBw4UNaIB"
      }
    },
    {
      "cell_type": "markdown",
      "source": [
        "**Regression**\n",
        "<font color='red'>\n",
        "> It is a problem of predicting a real-valued label i.e., target in the machine learning algorithm, given an unlabeled example. Predciting the price of a product based on past year sales, such as number of purchases, reviews data, product features and so on is an example of regression.\n",
        "<br />\n",
        "</font>\n",
        "\n",
        "* Linear Regression - It is a popukar regression learning algorithm that learns a model which is a linear combination of features of the input example.\n",
        "\n",
        "  - Mathematically, it can replicated \"y=ax+b\" \n",
        "  - We need to find the optimal values of a,b from the labeled training data.\n",
        "  - Obviously, the optimal values of parameters define the model that makes the most accurate predictions.\n",
        "\n",
        "* All-model based algorithms have a loss functions and what we do to find the best model is we try to minimize the objective known as the cost function. In this algorithm, the cost function is given by average loss, also called as emprical risk."
      ],
      "metadata": {
        "id": "f_fNB72oPIjr"
      }
    },
    {
      "cell_type": "markdown",
      "source": [
        "#### Importing Libraries"
      ],
      "metadata": {
        "id": "TG_WrpeNKGDp"
      }
    },
    {
      "cell_type": "markdown",
      "source": [
        "#\n",
        "<font color=\"blue\">\n",
        "As the python is the primary language I chose to execute this model, I tried to explore all the libraries related to exploratory data analysis. Numpy is the module we use for mathematical analysis related to dataset such as getting null values, changing the shape of input array to the model. Pandas being the best model for data manipulation, which is highly compactable with NumPy module. For supporting the data analysis, I choose the two popular libraries matplotlib, and seaborn for appropriate visualizations.\n",
        "</font>"
      ],
      "metadata": {
        "id": "KLyat2LkXPmH"
      }
    },
    {
      "cell_type": "code",
      "execution_count": null,
      "metadata": {
        "id": "T4G2VagZyQcl"
      },
      "outputs": [],
      "source": [
        "import numpy as np\n",
        "import pandas as pd\n",
        "import matplotlib.pyplot as plt\n",
        "import seaborn as sns"
      ]
    },
    {
      "cell_type": "markdown",
      "source": [
        "For the dataset, I decided to save the data on the cloud which is google drive, It would be compactable with google cloab"
      ],
      "metadata": {
        "id": "VfG-8V_bs0VJ"
      }
    },
    {
      "cell_type": "markdown",
      "source": [
        "####Mounting my google drive for the dataset access"
      ],
      "metadata": {
        "id": "tjiLN3zlKKA8"
      }
    },
    {
      "cell_type": "code",
      "source": [
        "from google.colab import drive\n",
        "drive.mount('/content/drive')"
      ],
      "metadata": {
        "colab": {
          "base_uri": "https://localhost:8080/"
        },
        "id": "gItH2T8TzJ8l",
        "outputId": "ad72119a-d1d4-4f1b-edd8-2a2723cbd6f1"
      },
      "execution_count": null,
      "outputs": [
        {
          "output_type": "stream",
          "name": "stdout",
          "text": [
            "Drive already mounted at /content/drive; to attempt to forcibly remount, call drive.mount(\"/content/drive\", force_remount=True).\n"
          ]
        }
      ]
    },
    {
      "cell_type": "code",
      "source": [
        "rawdata = pd.read_csv('drive/MyDrive/INFO5505-Spring2022/monet.csv')"
      ],
      "metadata": {
        "id": "bRM-2kk0zKgm"
      },
      "execution_count": null,
      "outputs": []
    },
    {
      "cell_type": "markdown",
      "source": [
        "####Exploratory Data Analysis\n",
        "\n",
        "<font color='seagreen'>\n",
        "\n",
        "* It is exploring the data to better understand the data, like extraxting or transforming input variabeles.\n",
        "* Indetifyiing outliers, missing values, and human errors in the data.\n",
        "* Understanding the relation between each variable, alongside observing how each variables is distributed along thhe path of data provided.\n",
        "</font>"
      ],
      "metadata": {
        "id": "8fP9FBT-KOPZ"
      }
    },
    {
      "cell_type": "code",
      "source": [
        "rawdata.head()"
      ],
      "metadata": {
        "colab": {
          "base_uri": "https://localhost:8080/",
          "height": 206
        },
        "id": "_qxE5rDDz8Lq",
        "outputId": "75e29ff6-ffeb-4a3c-c2e0-aa4ce375afbd"
      },
      "execution_count": null,
      "outputs": [
        {
          "output_type": "execute_result",
          "data": {
            "text/html": [
              "\n",
              "  <div id=\"df-02b6786d-05f3-45d5-a502-32957c4dde7b\">\n",
              "    <div class=\"colab-df-container\">\n",
              "      <div>\n",
              "<style scoped>\n",
              "    .dataframe tbody tr th:only-of-type {\n",
              "        vertical-align: middle;\n",
              "    }\n",
              "\n",
              "    .dataframe tbody tr th {\n",
              "        vertical-align: top;\n",
              "    }\n",
              "\n",
              "    .dataframe thead th {\n",
              "        text-align: right;\n",
              "    }\n",
              "</style>\n",
              "<table border=\"1\" class=\"dataframe\">\n",
              "  <thead>\n",
              "    <tr style=\"text-align: right;\">\n",
              "      <th></th>\n",
              "      <th>PRICE</th>\n",
              "      <th>HEIGHT</th>\n",
              "      <th>WIDTH</th>\n",
              "      <th>SIGNED</th>\n",
              "      <th>PICTURE</th>\n",
              "      <th>HOUSE</th>\n",
              "    </tr>\n",
              "  </thead>\n",
              "  <tbody>\n",
              "    <tr>\n",
              "      <th>0</th>\n",
              "      <td>3.993780</td>\n",
              "      <td>21.3</td>\n",
              "      <td>25.6</td>\n",
              "      <td>1</td>\n",
              "      <td>1</td>\n",
              "      <td>1</td>\n",
              "    </tr>\n",
              "    <tr>\n",
              "      <th>1</th>\n",
              "      <td>8.800000</td>\n",
              "      <td>31.9</td>\n",
              "      <td>25.6</td>\n",
              "      <td>1</td>\n",
              "      <td>2</td>\n",
              "      <td>2</td>\n",
              "    </tr>\n",
              "    <tr>\n",
              "      <th>2</th>\n",
              "      <td>0.131694</td>\n",
              "      <td>6.9</td>\n",
              "      <td>15.9</td>\n",
              "      <td>0</td>\n",
              "      <td>3</td>\n",
              "      <td>3</td>\n",
              "    </tr>\n",
              "    <tr>\n",
              "      <th>3</th>\n",
              "      <td>2.037500</td>\n",
              "      <td>25.7</td>\n",
              "      <td>32.0</td>\n",
              "      <td>1</td>\n",
              "      <td>4</td>\n",
              "      <td>2</td>\n",
              "    </tr>\n",
              "    <tr>\n",
              "      <th>4</th>\n",
              "      <td>1.487500</td>\n",
              "      <td>25.7</td>\n",
              "      <td>32.0</td>\n",
              "      <td>1</td>\n",
              "      <td>4</td>\n",
              "      <td>2</td>\n",
              "    </tr>\n",
              "  </tbody>\n",
              "</table>\n",
              "</div>\n",
              "      <button class=\"colab-df-convert\" onclick=\"convertToInteractive('df-02b6786d-05f3-45d5-a502-32957c4dde7b')\"\n",
              "              title=\"Convert this dataframe to an interactive table.\"\n",
              "              style=\"display:none;\">\n",
              "        \n",
              "  <svg xmlns=\"http://www.w3.org/2000/svg\" height=\"24px\"viewBox=\"0 0 24 24\"\n",
              "       width=\"24px\">\n",
              "    <path d=\"M0 0h24v24H0V0z\" fill=\"none\"/>\n",
              "    <path d=\"M18.56 5.44l.94 2.06.94-2.06 2.06-.94-2.06-.94-.94-2.06-.94 2.06-2.06.94zm-11 1L8.5 8.5l.94-2.06 2.06-.94-2.06-.94L8.5 2.5l-.94 2.06-2.06.94zm10 10l.94 2.06.94-2.06 2.06-.94-2.06-.94-.94-2.06-.94 2.06-2.06.94z\"/><path d=\"M17.41 7.96l-1.37-1.37c-.4-.4-.92-.59-1.43-.59-.52 0-1.04.2-1.43.59L10.3 9.45l-7.72 7.72c-.78.78-.78 2.05 0 2.83L4 21.41c.39.39.9.59 1.41.59.51 0 1.02-.2 1.41-.59l7.78-7.78 2.81-2.81c.8-.78.8-2.07 0-2.86zM5.41 20L4 18.59l7.72-7.72 1.47 1.35L5.41 20z\"/>\n",
              "  </svg>\n",
              "      </button>\n",
              "      \n",
              "  <style>\n",
              "    .colab-df-container {\n",
              "      display:flex;\n",
              "      flex-wrap:wrap;\n",
              "      gap: 12px;\n",
              "    }\n",
              "\n",
              "    .colab-df-convert {\n",
              "      background-color: #E8F0FE;\n",
              "      border: none;\n",
              "      border-radius: 50%;\n",
              "      cursor: pointer;\n",
              "      display: none;\n",
              "      fill: #1967D2;\n",
              "      height: 32px;\n",
              "      padding: 0 0 0 0;\n",
              "      width: 32px;\n",
              "    }\n",
              "\n",
              "    .colab-df-convert:hover {\n",
              "      background-color: #E2EBFA;\n",
              "      box-shadow: 0px 1px 2px rgba(60, 64, 67, 0.3), 0px 1px 3px 1px rgba(60, 64, 67, 0.15);\n",
              "      fill: #174EA6;\n",
              "    }\n",
              "\n",
              "    [theme=dark] .colab-df-convert {\n",
              "      background-color: #3B4455;\n",
              "      fill: #D2E3FC;\n",
              "    }\n",
              "\n",
              "    [theme=dark] .colab-df-convert:hover {\n",
              "      background-color: #434B5C;\n",
              "      box-shadow: 0px 1px 3px 1px rgba(0, 0, 0, 0.15);\n",
              "      filter: drop-shadow(0px 1px 2px rgba(0, 0, 0, 0.3));\n",
              "      fill: #FFFFFF;\n",
              "    }\n",
              "  </style>\n",
              "\n",
              "      <script>\n",
              "        const buttonEl =\n",
              "          document.querySelector('#df-02b6786d-05f3-45d5-a502-32957c4dde7b button.colab-df-convert');\n",
              "        buttonEl.style.display =\n",
              "          google.colab.kernel.accessAllowed ? 'block' : 'none';\n",
              "\n",
              "        async function convertToInteractive(key) {\n",
              "          const element = document.querySelector('#df-02b6786d-05f3-45d5-a502-32957c4dde7b');\n",
              "          const dataTable =\n",
              "            await google.colab.kernel.invokeFunction('convertToInteractive',\n",
              "                                                     [key], {});\n",
              "          if (!dataTable) return;\n",
              "\n",
              "          const docLinkHtml = 'Like what you see? Visit the ' +\n",
              "            '<a target=\"_blank\" href=https://colab.research.google.com/notebooks/data_table.ipynb>data table notebook</a>'\n",
              "            + ' to learn more about interactive tables.';\n",
              "          element.innerHTML = '';\n",
              "          dataTable['output_type'] = 'display_data';\n",
              "          await google.colab.output.renderOutput(dataTable, element);\n",
              "          const docLink = document.createElement('div');\n",
              "          docLink.innerHTML = docLinkHtml;\n",
              "          element.appendChild(docLink);\n",
              "        }\n",
              "      </script>\n",
              "    </div>\n",
              "  </div>\n",
              "  "
            ],
            "text/plain": [
              "      PRICE  HEIGHT  WIDTH  SIGNED  PICTURE  HOUSE \n",
              "0  3.993780    21.3   25.6       1        1       1\n",
              "1  8.800000    31.9   25.6       1        2       2\n",
              "2  0.131694     6.9   15.9       0        3       3\n",
              "3  2.037500    25.7   32.0       1        4       2\n",
              "4  1.487500    25.7   32.0       1        4       2"
            ]
          },
          "metadata": {},
          "execution_count": 111
        }
      ]
    },
    {
      "cell_type": "code",
      "source": [
        "rawdata.describe()"
      ],
      "metadata": {
        "id": "oPn4xXbo0Y3w",
        "colab": {
          "base_uri": "https://localhost:8080/",
          "height": 300
        },
        "outputId": "1c166187-26f6-40c2-e7bc-b4932789f782"
      },
      "execution_count": null,
      "outputs": [
        {
          "output_type": "execute_result",
          "data": {
            "text/html": [
              "\n",
              "  <div id=\"df-fb416404-8a22-493d-898e-cca4378d1e68\">\n",
              "    <div class=\"colab-df-container\">\n",
              "      <div>\n",
              "<style scoped>\n",
              "    .dataframe tbody tr th:only-of-type {\n",
              "        vertical-align: middle;\n",
              "    }\n",
              "\n",
              "    .dataframe tbody tr th {\n",
              "        vertical-align: top;\n",
              "    }\n",
              "\n",
              "    .dataframe thead th {\n",
              "        text-align: right;\n",
              "    }\n",
              "</style>\n",
              "<table border=\"1\" class=\"dataframe\">\n",
              "  <thead>\n",
              "    <tr style=\"text-align: right;\">\n",
              "      <th></th>\n",
              "      <th>PRICE</th>\n",
              "      <th>HEIGHT</th>\n",
              "      <th>WIDTH</th>\n",
              "      <th>SIGNED</th>\n",
              "      <th>PICTURE</th>\n",
              "      <th>HOUSE</th>\n",
              "    </tr>\n",
              "  </thead>\n",
              "  <tbody>\n",
              "    <tr>\n",
              "      <th>count</th>\n",
              "      <td>430.000000</td>\n",
              "      <td>430.000000</td>\n",
              "      <td>430.000000</td>\n",
              "      <td>430.000000</td>\n",
              "      <td>430.000000</td>\n",
              "      <td>430.000000</td>\n",
              "    </tr>\n",
              "    <tr>\n",
              "      <th>mean</th>\n",
              "      <td>3.089996</td>\n",
              "      <td>27.646977</td>\n",
              "      <td>32.111395</td>\n",
              "      <td>0.820930</td>\n",
              "      <td>182.644186</td>\n",
              "      <td>1.611628</td>\n",
              "    </tr>\n",
              "    <tr>\n",
              "      <th>std</th>\n",
              "      <td>4.311260</td>\n",
              "      <td>10.097013</td>\n",
              "      <td>10.459677</td>\n",
              "      <td>0.383857</td>\n",
              "      <td>109.091529</td>\n",
              "      <td>0.591592</td>\n",
              "    </tr>\n",
              "    <tr>\n",
              "      <th>min</th>\n",
              "      <td>0.010413</td>\n",
              "      <td>3.900000</td>\n",
              "      <td>6.700000</td>\n",
              "      <td>0.000000</td>\n",
              "      <td>1.000000</td>\n",
              "      <td>1.000000</td>\n",
              "    </tr>\n",
              "    <tr>\n",
              "      <th>25%</th>\n",
              "      <td>0.600153</td>\n",
              "      <td>23.125000</td>\n",
              "      <td>28.525000</td>\n",
              "      <td>1.000000</td>\n",
              "      <td>87.250000</td>\n",
              "      <td>1.000000</td>\n",
              "    </tr>\n",
              "    <tr>\n",
              "      <th>50%</th>\n",
              "      <td>1.312782</td>\n",
              "      <td>25.600000</td>\n",
              "      <td>31.900000</td>\n",
              "      <td>1.000000</td>\n",
              "      <td>179.500000</td>\n",
              "      <td>2.000000</td>\n",
              "    </tr>\n",
              "    <tr>\n",
              "      <th>75%</th>\n",
              "      <td>3.850000</td>\n",
              "      <td>31.450000</td>\n",
              "      <td>36.200000</td>\n",
              "      <td>1.000000</td>\n",
              "      <td>274.750000</td>\n",
              "      <td>2.000000</td>\n",
              "    </tr>\n",
              "    <tr>\n",
              "      <th>max</th>\n",
              "      <td>33.013504</td>\n",
              "      <td>78.700000</td>\n",
              "      <td>89.000000</td>\n",
              "      <td>1.000000</td>\n",
              "      <td>387.000000</td>\n",
              "      <td>3.000000</td>\n",
              "    </tr>\n",
              "  </tbody>\n",
              "</table>\n",
              "</div>\n",
              "      <button class=\"colab-df-convert\" onclick=\"convertToInteractive('df-fb416404-8a22-493d-898e-cca4378d1e68')\"\n",
              "              title=\"Convert this dataframe to an interactive table.\"\n",
              "              style=\"display:none;\">\n",
              "        \n",
              "  <svg xmlns=\"http://www.w3.org/2000/svg\" height=\"24px\"viewBox=\"0 0 24 24\"\n",
              "       width=\"24px\">\n",
              "    <path d=\"M0 0h24v24H0V0z\" fill=\"none\"/>\n",
              "    <path d=\"M18.56 5.44l.94 2.06.94-2.06 2.06-.94-2.06-.94-.94-2.06-.94 2.06-2.06.94zm-11 1L8.5 8.5l.94-2.06 2.06-.94-2.06-.94L8.5 2.5l-.94 2.06-2.06.94zm10 10l.94 2.06.94-2.06 2.06-.94-2.06-.94-.94-2.06-.94 2.06-2.06.94z\"/><path d=\"M17.41 7.96l-1.37-1.37c-.4-.4-.92-.59-1.43-.59-.52 0-1.04.2-1.43.59L10.3 9.45l-7.72 7.72c-.78.78-.78 2.05 0 2.83L4 21.41c.39.39.9.59 1.41.59.51 0 1.02-.2 1.41-.59l7.78-7.78 2.81-2.81c.8-.78.8-2.07 0-2.86zM5.41 20L4 18.59l7.72-7.72 1.47 1.35L5.41 20z\"/>\n",
              "  </svg>\n",
              "      </button>\n",
              "      \n",
              "  <style>\n",
              "    .colab-df-container {\n",
              "      display:flex;\n",
              "      flex-wrap:wrap;\n",
              "      gap: 12px;\n",
              "    }\n",
              "\n",
              "    .colab-df-convert {\n",
              "      background-color: #E8F0FE;\n",
              "      border: none;\n",
              "      border-radius: 50%;\n",
              "      cursor: pointer;\n",
              "      display: none;\n",
              "      fill: #1967D2;\n",
              "      height: 32px;\n",
              "      padding: 0 0 0 0;\n",
              "      width: 32px;\n",
              "    }\n",
              "\n",
              "    .colab-df-convert:hover {\n",
              "      background-color: #E2EBFA;\n",
              "      box-shadow: 0px 1px 2px rgba(60, 64, 67, 0.3), 0px 1px 3px 1px rgba(60, 64, 67, 0.15);\n",
              "      fill: #174EA6;\n",
              "    }\n",
              "\n",
              "    [theme=dark] .colab-df-convert {\n",
              "      background-color: #3B4455;\n",
              "      fill: #D2E3FC;\n",
              "    }\n",
              "\n",
              "    [theme=dark] .colab-df-convert:hover {\n",
              "      background-color: #434B5C;\n",
              "      box-shadow: 0px 1px 3px 1px rgba(0, 0, 0, 0.15);\n",
              "      filter: drop-shadow(0px 1px 2px rgba(0, 0, 0, 0.3));\n",
              "      fill: #FFFFFF;\n",
              "    }\n",
              "  </style>\n",
              "\n",
              "      <script>\n",
              "        const buttonEl =\n",
              "          document.querySelector('#df-fb416404-8a22-493d-898e-cca4378d1e68 button.colab-df-convert');\n",
              "        buttonEl.style.display =\n",
              "          google.colab.kernel.accessAllowed ? 'block' : 'none';\n",
              "\n",
              "        async function convertToInteractive(key) {\n",
              "          const element = document.querySelector('#df-fb416404-8a22-493d-898e-cca4378d1e68');\n",
              "          const dataTable =\n",
              "            await google.colab.kernel.invokeFunction('convertToInteractive',\n",
              "                                                     [key], {});\n",
              "          if (!dataTable) return;\n",
              "\n",
              "          const docLinkHtml = 'Like what you see? Visit the ' +\n",
              "            '<a target=\"_blank\" href=https://colab.research.google.com/notebooks/data_table.ipynb>data table notebook</a>'\n",
              "            + ' to learn more about interactive tables.';\n",
              "          element.innerHTML = '';\n",
              "          dataTable['output_type'] = 'display_data';\n",
              "          await google.colab.output.renderOutput(dataTable, element);\n",
              "          const docLink = document.createElement('div');\n",
              "          docLink.innerHTML = docLinkHtml;\n",
              "          element.appendChild(docLink);\n",
              "        }\n",
              "      </script>\n",
              "    </div>\n",
              "  </div>\n",
              "  "
            ],
            "text/plain": [
              "            PRICE      HEIGHT       WIDTH      SIGNED     PICTURE      HOUSE \n",
              "count  430.000000  430.000000  430.000000  430.000000  430.000000  430.000000\n",
              "mean     3.089996   27.646977   32.111395    0.820930  182.644186    1.611628\n",
              "std      4.311260   10.097013   10.459677    0.383857  109.091529    0.591592\n",
              "min      0.010413    3.900000    6.700000    0.000000    1.000000    1.000000\n",
              "25%      0.600153   23.125000   28.525000    1.000000   87.250000    1.000000\n",
              "50%      1.312782   25.600000   31.900000    1.000000  179.500000    2.000000\n",
              "75%      3.850000   31.450000   36.200000    1.000000  274.750000    2.000000\n",
              "max     33.013504   78.700000   89.000000    1.000000  387.000000    3.000000"
            ]
          },
          "metadata": {},
          "execution_count": 112
        }
      ]
    },
    {
      "cell_type": "code",
      "source": [
        "rawdata.shape"
      ],
      "metadata": {
        "id": "yxLTyg3ormb1",
        "colab": {
          "base_uri": "https://localhost:8080/"
        },
        "outputId": "4cb7722e-1e2a-4811-8cc8-1b157a9ab8bc"
      },
      "execution_count": null,
      "outputs": [
        {
          "output_type": "execute_result",
          "data": {
            "text/plain": [
              "(430, 6)"
            ]
          },
          "metadata": {},
          "execution_count": 113
        }
      ]
    },
    {
      "cell_type": "code",
      "source": [
        "rawdata.columns"
      ],
      "metadata": {
        "colab": {
          "base_uri": "https://localhost:8080/"
        },
        "id": "5wO9au2c0Rbw",
        "outputId": "a2793ac1-1522-4e7b-823a-8607a3f5933b"
      },
      "execution_count": null,
      "outputs": [
        {
          "output_type": "execute_result",
          "data": {
            "text/plain": [
              "Index(['PRICE', 'HEIGHT', 'WIDTH', 'SIGNED', 'PICTURE', 'HOUSE '], dtype='object')"
            ]
          },
          "metadata": {},
          "execution_count": 114
        }
      ]
    },
    {
      "cell_type": "markdown",
      "source": [
        "#\n",
        "<font color=\"blue\">\n",
        "So, I could see that from the columns names, HOUSE column has a space within the column name, so I decided to rename the column and remove the columns which are not necessary for my analysis.\n",
        "</font>"
      ],
      "metadata": {
        "id": "lG563NyetPUO"
      }
    },
    {
      "cell_type": "code",
      "source": [
        "rawdata = rawdata.rename(columns = {\"HOUSE \":\"HOUSE\"},errors = \"raise\")"
      ],
      "metadata": {
        "id": "UP9x4LYq00LB"
      },
      "execution_count": null,
      "outputs": []
    },
    {
      "cell_type": "code",
      "source": [
        "cleandata = rawdata.copy().drop(['SIGNED','PICTURE','HOUSE'],axis=1)\n",
        "cleandata"
      ],
      "metadata": {
        "colab": {
          "base_uri": "https://localhost:8080/",
          "height": 423
        },
        "id": "_-RpucJA1W3p",
        "outputId": "45bfdb34-20e3-4173-fdd2-9bba022abd46"
      },
      "execution_count": null,
      "outputs": [
        {
          "output_type": "execute_result",
          "data": {
            "text/html": [
              "\n",
              "  <div id=\"df-4be1568f-a9d7-49b2-9ecb-dde326a55ea9\">\n",
              "    <div class=\"colab-df-container\">\n",
              "      <div>\n",
              "<style scoped>\n",
              "    .dataframe tbody tr th:only-of-type {\n",
              "        vertical-align: middle;\n",
              "    }\n",
              "\n",
              "    .dataframe tbody tr th {\n",
              "        vertical-align: top;\n",
              "    }\n",
              "\n",
              "    .dataframe thead th {\n",
              "        text-align: right;\n",
              "    }\n",
              "</style>\n",
              "<table border=\"1\" class=\"dataframe\">\n",
              "  <thead>\n",
              "    <tr style=\"text-align: right;\">\n",
              "      <th></th>\n",
              "      <th>PRICE</th>\n",
              "      <th>HEIGHT</th>\n",
              "      <th>WIDTH</th>\n",
              "    </tr>\n",
              "  </thead>\n",
              "  <tbody>\n",
              "    <tr>\n",
              "      <th>0</th>\n",
              "      <td>3.993780</td>\n",
              "      <td>21.3</td>\n",
              "      <td>25.6</td>\n",
              "    </tr>\n",
              "    <tr>\n",
              "      <th>1</th>\n",
              "      <td>8.800000</td>\n",
              "      <td>31.9</td>\n",
              "      <td>25.6</td>\n",
              "    </tr>\n",
              "    <tr>\n",
              "      <th>2</th>\n",
              "      <td>0.131694</td>\n",
              "      <td>6.9</td>\n",
              "      <td>15.9</td>\n",
              "    </tr>\n",
              "    <tr>\n",
              "      <th>3</th>\n",
              "      <td>2.037500</td>\n",
              "      <td>25.7</td>\n",
              "      <td>32.0</td>\n",
              "    </tr>\n",
              "    <tr>\n",
              "      <th>4</th>\n",
              "      <td>1.487500</td>\n",
              "      <td>25.7</td>\n",
              "      <td>32.0</td>\n",
              "    </tr>\n",
              "    <tr>\n",
              "      <th>...</th>\n",
              "      <td>...</td>\n",
              "      <td>...</td>\n",
              "      <td>...</td>\n",
              "    </tr>\n",
              "    <tr>\n",
              "      <th>425</th>\n",
              "      <td>5.282500</td>\n",
              "      <td>25.6</td>\n",
              "      <td>39.4</td>\n",
              "    </tr>\n",
              "    <tr>\n",
              "      <th>426</th>\n",
              "      <td>9.352500</td>\n",
              "      <td>25.9</td>\n",
              "      <td>39.6</td>\n",
              "    </tr>\n",
              "    <tr>\n",
              "      <th>427</th>\n",
              "      <td>8.252500</td>\n",
              "      <td>25.6</td>\n",
              "      <td>39.6</td>\n",
              "    </tr>\n",
              "    <tr>\n",
              "      <th>428</th>\n",
              "      <td>3.410000</td>\n",
              "      <td>25.6</td>\n",
              "      <td>39.4</td>\n",
              "    </tr>\n",
              "    <tr>\n",
              "      <th>429</th>\n",
              "      <td>1.542500</td>\n",
              "      <td>25.7</td>\n",
              "      <td>32.0</td>\n",
              "    </tr>\n",
              "  </tbody>\n",
              "</table>\n",
              "<p>430 rows × 3 columns</p>\n",
              "</div>\n",
              "      <button class=\"colab-df-convert\" onclick=\"convertToInteractive('df-4be1568f-a9d7-49b2-9ecb-dde326a55ea9')\"\n",
              "              title=\"Convert this dataframe to an interactive table.\"\n",
              "              style=\"display:none;\">\n",
              "        \n",
              "  <svg xmlns=\"http://www.w3.org/2000/svg\" height=\"24px\"viewBox=\"0 0 24 24\"\n",
              "       width=\"24px\">\n",
              "    <path d=\"M0 0h24v24H0V0z\" fill=\"none\"/>\n",
              "    <path d=\"M18.56 5.44l.94 2.06.94-2.06 2.06-.94-2.06-.94-.94-2.06-.94 2.06-2.06.94zm-11 1L8.5 8.5l.94-2.06 2.06-.94-2.06-.94L8.5 2.5l-.94 2.06-2.06.94zm10 10l.94 2.06.94-2.06 2.06-.94-2.06-.94-.94-2.06-.94 2.06-2.06.94z\"/><path d=\"M17.41 7.96l-1.37-1.37c-.4-.4-.92-.59-1.43-.59-.52 0-1.04.2-1.43.59L10.3 9.45l-7.72 7.72c-.78.78-.78 2.05 0 2.83L4 21.41c.39.39.9.59 1.41.59.51 0 1.02-.2 1.41-.59l7.78-7.78 2.81-2.81c.8-.78.8-2.07 0-2.86zM5.41 20L4 18.59l7.72-7.72 1.47 1.35L5.41 20z\"/>\n",
              "  </svg>\n",
              "      </button>\n",
              "      \n",
              "  <style>\n",
              "    .colab-df-container {\n",
              "      display:flex;\n",
              "      flex-wrap:wrap;\n",
              "      gap: 12px;\n",
              "    }\n",
              "\n",
              "    .colab-df-convert {\n",
              "      background-color: #E8F0FE;\n",
              "      border: none;\n",
              "      border-radius: 50%;\n",
              "      cursor: pointer;\n",
              "      display: none;\n",
              "      fill: #1967D2;\n",
              "      height: 32px;\n",
              "      padding: 0 0 0 0;\n",
              "      width: 32px;\n",
              "    }\n",
              "\n",
              "    .colab-df-convert:hover {\n",
              "      background-color: #E2EBFA;\n",
              "      box-shadow: 0px 1px 2px rgba(60, 64, 67, 0.3), 0px 1px 3px 1px rgba(60, 64, 67, 0.15);\n",
              "      fill: #174EA6;\n",
              "    }\n",
              "\n",
              "    [theme=dark] .colab-df-convert {\n",
              "      background-color: #3B4455;\n",
              "      fill: #D2E3FC;\n",
              "    }\n",
              "\n",
              "    [theme=dark] .colab-df-convert:hover {\n",
              "      background-color: #434B5C;\n",
              "      box-shadow: 0px 1px 3px 1px rgba(0, 0, 0, 0.15);\n",
              "      filter: drop-shadow(0px 1px 2px rgba(0, 0, 0, 0.3));\n",
              "      fill: #FFFFFF;\n",
              "    }\n",
              "  </style>\n",
              "\n",
              "      <script>\n",
              "        const buttonEl =\n",
              "          document.querySelector('#df-4be1568f-a9d7-49b2-9ecb-dde326a55ea9 button.colab-df-convert');\n",
              "        buttonEl.style.display =\n",
              "          google.colab.kernel.accessAllowed ? 'block' : 'none';\n",
              "\n",
              "        async function convertToInteractive(key) {\n",
              "          const element = document.querySelector('#df-4be1568f-a9d7-49b2-9ecb-dde326a55ea9');\n",
              "          const dataTable =\n",
              "            await google.colab.kernel.invokeFunction('convertToInteractive',\n",
              "                                                     [key], {});\n",
              "          if (!dataTable) return;\n",
              "\n",
              "          const docLinkHtml = 'Like what you see? Visit the ' +\n",
              "            '<a target=\"_blank\" href=https://colab.research.google.com/notebooks/data_table.ipynb>data table notebook</a>'\n",
              "            + ' to learn more about interactive tables.';\n",
              "          element.innerHTML = '';\n",
              "          dataTable['output_type'] = 'display_data';\n",
              "          await google.colab.output.renderOutput(dataTable, element);\n",
              "          const docLink = document.createElement('div');\n",
              "          docLink.innerHTML = docLinkHtml;\n",
              "          element.appendChild(docLink);\n",
              "        }\n",
              "      </script>\n",
              "    </div>\n",
              "  </div>\n",
              "  "
            ],
            "text/plain": [
              "        PRICE  HEIGHT  WIDTH\n",
              "0    3.993780    21.3   25.6\n",
              "1    8.800000    31.9   25.6\n",
              "2    0.131694     6.9   15.9\n",
              "3    2.037500    25.7   32.0\n",
              "4    1.487500    25.7   32.0\n",
              "..        ...     ...    ...\n",
              "425  5.282500    25.6   39.4\n",
              "426  9.352500    25.9   39.6\n",
              "427  8.252500    25.6   39.6\n",
              "428  3.410000    25.6   39.4\n",
              "429  1.542500    25.7   32.0\n",
              "\n",
              "[430 rows x 3 columns]"
            ]
          },
          "metadata": {},
          "execution_count": 116
        }
      ]
    },
    {
      "cell_type": "markdown",
      "source": [
        "#\n",
        "<font color=\"blue\">\n",
        "For dealing with null values, I choose to drop them, and compare the number of obervations in the dataset. If both are same, then it would be appear so there are no null values in the data.\n",
        "</font>"
      ],
      "metadata": {
        "id": "eer8D0-muDYZ"
      }
    },
    {
      "cell_type": "code",
      "source": [
        "cleandata.dropna(axis=0)"
      ],
      "metadata": {
        "colab": {
          "base_uri": "https://localhost:8080/",
          "height": 423
        },
        "id": "FlQYcYFs1ZUh",
        "outputId": "04c8a0bb-f33c-441b-bd3e-a812144b42e9"
      },
      "execution_count": null,
      "outputs": [
        {
          "output_type": "execute_result",
          "data": {
            "text/html": [
              "\n",
              "  <div id=\"df-1bdca35b-6965-422a-baef-84436f4ec887\">\n",
              "    <div class=\"colab-df-container\">\n",
              "      <div>\n",
              "<style scoped>\n",
              "    .dataframe tbody tr th:only-of-type {\n",
              "        vertical-align: middle;\n",
              "    }\n",
              "\n",
              "    .dataframe tbody tr th {\n",
              "        vertical-align: top;\n",
              "    }\n",
              "\n",
              "    .dataframe thead th {\n",
              "        text-align: right;\n",
              "    }\n",
              "</style>\n",
              "<table border=\"1\" class=\"dataframe\">\n",
              "  <thead>\n",
              "    <tr style=\"text-align: right;\">\n",
              "      <th></th>\n",
              "      <th>PRICE</th>\n",
              "      <th>HEIGHT</th>\n",
              "      <th>WIDTH</th>\n",
              "    </tr>\n",
              "  </thead>\n",
              "  <tbody>\n",
              "    <tr>\n",
              "      <th>0</th>\n",
              "      <td>3.993780</td>\n",
              "      <td>21.3</td>\n",
              "      <td>25.6</td>\n",
              "    </tr>\n",
              "    <tr>\n",
              "      <th>1</th>\n",
              "      <td>8.800000</td>\n",
              "      <td>31.9</td>\n",
              "      <td>25.6</td>\n",
              "    </tr>\n",
              "    <tr>\n",
              "      <th>2</th>\n",
              "      <td>0.131694</td>\n",
              "      <td>6.9</td>\n",
              "      <td>15.9</td>\n",
              "    </tr>\n",
              "    <tr>\n",
              "      <th>3</th>\n",
              "      <td>2.037500</td>\n",
              "      <td>25.7</td>\n",
              "      <td>32.0</td>\n",
              "    </tr>\n",
              "    <tr>\n",
              "      <th>4</th>\n",
              "      <td>1.487500</td>\n",
              "      <td>25.7</td>\n",
              "      <td>32.0</td>\n",
              "    </tr>\n",
              "    <tr>\n",
              "      <th>...</th>\n",
              "      <td>...</td>\n",
              "      <td>...</td>\n",
              "      <td>...</td>\n",
              "    </tr>\n",
              "    <tr>\n",
              "      <th>425</th>\n",
              "      <td>5.282500</td>\n",
              "      <td>25.6</td>\n",
              "      <td>39.4</td>\n",
              "    </tr>\n",
              "    <tr>\n",
              "      <th>426</th>\n",
              "      <td>9.352500</td>\n",
              "      <td>25.9</td>\n",
              "      <td>39.6</td>\n",
              "    </tr>\n",
              "    <tr>\n",
              "      <th>427</th>\n",
              "      <td>8.252500</td>\n",
              "      <td>25.6</td>\n",
              "      <td>39.6</td>\n",
              "    </tr>\n",
              "    <tr>\n",
              "      <th>428</th>\n",
              "      <td>3.410000</td>\n",
              "      <td>25.6</td>\n",
              "      <td>39.4</td>\n",
              "    </tr>\n",
              "    <tr>\n",
              "      <th>429</th>\n",
              "      <td>1.542500</td>\n",
              "      <td>25.7</td>\n",
              "      <td>32.0</td>\n",
              "    </tr>\n",
              "  </tbody>\n",
              "</table>\n",
              "<p>430 rows × 3 columns</p>\n",
              "</div>\n",
              "      <button class=\"colab-df-convert\" onclick=\"convertToInteractive('df-1bdca35b-6965-422a-baef-84436f4ec887')\"\n",
              "              title=\"Convert this dataframe to an interactive table.\"\n",
              "              style=\"display:none;\">\n",
              "        \n",
              "  <svg xmlns=\"http://www.w3.org/2000/svg\" height=\"24px\"viewBox=\"0 0 24 24\"\n",
              "       width=\"24px\">\n",
              "    <path d=\"M0 0h24v24H0V0z\" fill=\"none\"/>\n",
              "    <path d=\"M18.56 5.44l.94 2.06.94-2.06 2.06-.94-2.06-.94-.94-2.06-.94 2.06-2.06.94zm-11 1L8.5 8.5l.94-2.06 2.06-.94-2.06-.94L8.5 2.5l-.94 2.06-2.06.94zm10 10l.94 2.06.94-2.06 2.06-.94-2.06-.94-.94-2.06-.94 2.06-2.06.94z\"/><path d=\"M17.41 7.96l-1.37-1.37c-.4-.4-.92-.59-1.43-.59-.52 0-1.04.2-1.43.59L10.3 9.45l-7.72 7.72c-.78.78-.78 2.05 0 2.83L4 21.41c.39.39.9.59 1.41.59.51 0 1.02-.2 1.41-.59l7.78-7.78 2.81-2.81c.8-.78.8-2.07 0-2.86zM5.41 20L4 18.59l7.72-7.72 1.47 1.35L5.41 20z\"/>\n",
              "  </svg>\n",
              "      </button>\n",
              "      \n",
              "  <style>\n",
              "    .colab-df-container {\n",
              "      display:flex;\n",
              "      flex-wrap:wrap;\n",
              "      gap: 12px;\n",
              "    }\n",
              "\n",
              "    .colab-df-convert {\n",
              "      background-color: #E8F0FE;\n",
              "      border: none;\n",
              "      border-radius: 50%;\n",
              "      cursor: pointer;\n",
              "      display: none;\n",
              "      fill: #1967D2;\n",
              "      height: 32px;\n",
              "      padding: 0 0 0 0;\n",
              "      width: 32px;\n",
              "    }\n",
              "\n",
              "    .colab-df-convert:hover {\n",
              "      background-color: #E2EBFA;\n",
              "      box-shadow: 0px 1px 2px rgba(60, 64, 67, 0.3), 0px 1px 3px 1px rgba(60, 64, 67, 0.15);\n",
              "      fill: #174EA6;\n",
              "    }\n",
              "\n",
              "    [theme=dark] .colab-df-convert {\n",
              "      background-color: #3B4455;\n",
              "      fill: #D2E3FC;\n",
              "    }\n",
              "\n",
              "    [theme=dark] .colab-df-convert:hover {\n",
              "      background-color: #434B5C;\n",
              "      box-shadow: 0px 1px 3px 1px rgba(0, 0, 0, 0.15);\n",
              "      filter: drop-shadow(0px 1px 2px rgba(0, 0, 0, 0.3));\n",
              "      fill: #FFFFFF;\n",
              "    }\n",
              "  </style>\n",
              "\n",
              "      <script>\n",
              "        const buttonEl =\n",
              "          document.querySelector('#df-1bdca35b-6965-422a-baef-84436f4ec887 button.colab-df-convert');\n",
              "        buttonEl.style.display =\n",
              "          google.colab.kernel.accessAllowed ? 'block' : 'none';\n",
              "\n",
              "        async function convertToInteractive(key) {\n",
              "          const element = document.querySelector('#df-1bdca35b-6965-422a-baef-84436f4ec887');\n",
              "          const dataTable =\n",
              "            await google.colab.kernel.invokeFunction('convertToInteractive',\n",
              "                                                     [key], {});\n",
              "          if (!dataTable) return;\n",
              "\n",
              "          const docLinkHtml = 'Like what you see? Visit the ' +\n",
              "            '<a target=\"_blank\" href=https://colab.research.google.com/notebooks/data_table.ipynb>data table notebook</a>'\n",
              "            + ' to learn more about interactive tables.';\n",
              "          element.innerHTML = '';\n",
              "          dataTable['output_type'] = 'display_data';\n",
              "          await google.colab.output.renderOutput(dataTable, element);\n",
              "          const docLink = document.createElement('div');\n",
              "          docLink.innerHTML = docLinkHtml;\n",
              "          element.appendChild(docLink);\n",
              "        }\n",
              "      </script>\n",
              "    </div>\n",
              "  </div>\n",
              "  "
            ],
            "text/plain": [
              "        PRICE  HEIGHT  WIDTH\n",
              "0    3.993780    21.3   25.6\n",
              "1    8.800000    31.9   25.6\n",
              "2    0.131694     6.9   15.9\n",
              "3    2.037500    25.7   32.0\n",
              "4    1.487500    25.7   32.0\n",
              "..        ...     ...    ...\n",
              "425  5.282500    25.6   39.4\n",
              "426  9.352500    25.9   39.6\n",
              "427  8.252500    25.6   39.6\n",
              "428  3.410000    25.6   39.4\n",
              "429  1.542500    25.7   32.0\n",
              "\n",
              "[430 rows x 3 columns]"
            ]
          },
          "metadata": {},
          "execution_count": 117
        }
      ]
    },
    {
      "cell_type": "markdown",
      "source": [
        "####Correlation Matrix\n",
        "\n",
        "#\n",
        "<font color=\"red\">\n",
        "For exploring how the attributes of dataset are behaving among themselves, with each other attributes, I used correaltion matrix concept from statistics which will result me all the correaltion coefficients. In detail, it is a table which shows the correaltion between varibales.\n",
        "</font>"
      ],
      "metadata": {
        "id": "zj0xdhHYKUTx"
      }
    },
    {
      "cell_type": "code",
      "source": [
        "cor = cleandata.corr()\n",
        "sns.heatmap(cor, xticklabels=cor.columns, yticklabels=cor.columns, annot =True)\n",
        "cmap = sns.diverging_palette(220,20, as_cmap = True)"
      ],
      "metadata": {
        "colab": {
          "base_uri": "https://localhost:8080/",
          "height": 269
        },
        "id": "4sW2I0wS2SdJ",
        "outputId": "3fcc02aa-e4c7-4c29-ff59-ce0c35a368c6"
      },
      "execution_count": null,
      "outputs": [
        {
          "output_type": "display_data",
          "data": {
            "image/png": "[encoded data removed]",
            "text/plain": [
              "<Figure size 432x288 with 2 Axes>"
            ]
          },
          "metadata": {
            "needs_background": "light"
          }
        }
      ]
    },
    {
      "cell_type": "markdown",
      "source": [
        "#\n",
        "<font color=\"blue\">\n",
        "After examining the correaltion matrix, I decided to plot the data in steps of each variable vs the other variables of the dataset."
      ],
      "metadata": {
        "id": "Nguy0ULFvkHu"
      }
    },
    {
      "cell_type": "code",
      "source": [
        "cleandata.plot(kind ='scatter', x='HEIGHT', y='PRICE')"
      ],
      "metadata": {
        "colab": {
          "base_uri": "https://localhost:8080/",
          "height": 297
        },
        "id": "CJohWHQg2_ny",
        "outputId": "fc1a59ee-086d-4392-ac5b-e0601b311225"
      },
      "execution_count": null,
      "outputs": [
        {
          "output_type": "execute_result",
          "data": {
            "text/plain": [
              "<matplotlib.axes._subplots.AxesSubplot at 0x7fd7ca92c850>"
            ]
          },
          "metadata": {},
          "execution_count": 119
        },
        {
          "output_type": "display_data",
          "data": {
            "image/png": "[encoded data removed]",
            "text/plain": [
              "<Figure size 432x288 with 1 Axes>"
            ]
          },
          "metadata": {
            "needs_background": "light"
          }
        }
      ]
    },
    {
      "cell_type": "code",
      "source": [
        "cleandata.plot(kind ='scatter', x='WIDTH', y='PRICE')"
      ],
      "metadata": {
        "colab": {
          "base_uri": "https://localhost:8080/",
          "height": 297
        },
        "id": "PSERU9Zs3thH",
        "outputId": "3042775e-ab01-451f-f822-80ea4c3cd134"
      },
      "execution_count": null,
      "outputs": [
        {
          "output_type": "execute_result",
          "data": {
            "text/plain": [
              "<matplotlib.axes._subplots.AxesSubplot at 0x7fd7ca972310>"
            ]
          },
          "metadata": {},
          "execution_count": 120
        },
        {
          "output_type": "display_data",
          "data": {
            "image/png": "[encoded data removed]",
            "text/plain": [
              "<Figure size 432x288 with 1 Axes>"
            ]
          },
          "metadata": {
            "needs_background": "light"
          }
        }
      ]
    },
    {
      "cell_type": "markdown",
      "source": [
        "####Exploring patterns or trends in the independent variables"
      ],
      "metadata": {
        "id": "XYniZWm1KZdY"
      }
    },
    {
      "cell_type": "code",
      "source": [
        "cleandata['HEIGHT'].plot(kind='hist',bins=30,figsize=(15,8),facecolor='sandybrown',edgecolor='black')"
      ],
      "metadata": {
        "colab": {
          "base_uri": "https://localhost:8080/",
          "height": 501
        },
        "id": "1Q_Rp0x54Itk",
        "outputId": "7b6480e5-ba07-447d-bddd-0da4331289a0"
      },
      "execution_count": null,
      "outputs": [
        {
          "output_type": "execute_result",
          "data": {
            "text/plain": [
              "<matplotlib.axes._subplots.AxesSubplot at 0x7fd7da3b0890>"
            ]
          },
          "metadata": {},
          "execution_count": 121
        },
        {
          "output_type": "display_data",
          "data": {
            "image/png": "[encoded data removed]",
            "text/plain": [
              "<Figure size 1080x576 with 1 Axes>"
            ]
          },
          "metadata": {
            "needs_background": "light"
          }
        }
      ]
    },
    {
      "cell_type": "code",
      "source": [
        "cleandata['WIDTH'].plot(kind='hist',bins=30,figsize=(15,8),facecolor='palegreen',edgecolor='black')"
      ],
      "metadata": {
        "colab": {
          "base_uri": "https://localhost:8080/",
          "height": 501
        },
        "id": "irs3aME-5NPp",
        "outputId": "e4d606c1-3607-40f5-c87d-94c461f5a896"
      },
      "execution_count": null,
      "outputs": [
        {
          "output_type": "execute_result",
          "data": {
            "text/plain": [
              "<matplotlib.axes._subplots.AxesSubplot at 0x7fd7da4ac850>"
            ]
          },
          "metadata": {},
          "execution_count": 122
        },
        {
          "output_type": "display_data",
          "data": {
            "image/png": "[encoded data removed]",
            "text/plain": [
              "<Figure size 1080x576 with 1 Axes>"
            ]
          },
          "metadata": {
            "needs_background": "light"
          }
        }
      ]
    },
    {
      "cell_type": "code",
      "source": [
        "cleandata['PRICE'].plot(kind='hist',bins=30,figsize=(15,8),facecolor='plum',edgecolor='black')"
      ],
      "metadata": {
        "colab": {
          "base_uri": "https://localhost:8080/",
          "height": 501
        },
        "id": "lGUVvMFI5gw3",
        "outputId": "713db08c-b9e4-4924-9654-58e00a67e37b"
      },
      "execution_count": null,
      "outputs": [
        {
          "output_type": "execute_result",
          "data": {
            "text/plain": [
              "<matplotlib.axes._subplots.AxesSubplot at 0x7fd7da56df10>"
            ]
          },
          "metadata": {},
          "execution_count": 123
        },
        {
          "output_type": "display_data",
          "data": {
            "image/png": "[encoded data removed]",
            "text/plain": [
              "<Figure size 1080x576 with 1 Axes>"
            ]
          },
          "metadata": {
            "needs_background": "light"
          }
        }
      ]
    },
    {
      "cell_type": "markdown",
      "source": [
        "####Creating new variable 'size' from the existing independent varibales"
      ],
      "metadata": {
        "id": "LpDjhAZLKhns"
      }
    },
    {
      "cell_type": "code",
      "source": [
        "cleandata[\"SIZE\"] = cleandata[\"HEIGHT\"]*cleandata[\"WIDTH\"]"
      ],
      "metadata": {
        "id": "sqDDBaig68uA"
      },
      "execution_count": null,
      "outputs": []
    },
    {
      "cell_type": "code",
      "source": [
        "cleandata.plot(kind ='scatter', x='SIZE', y='PRICE')"
      ],
      "metadata": {
        "colab": {
          "base_uri": "https://localhost:8080/",
          "height": 297
        },
        "id": "X-AFZeJQ2r-E",
        "outputId": "0d9597dd-4b0c-4156-96af-7e37fca2df39"
      },
      "execution_count": null,
      "outputs": [
        {
          "output_type": "execute_result",
          "data": {
            "text/plain": [
              "<matplotlib.axes._subplots.AxesSubplot at 0x7fd7da63ddd0>"
            ]
          },
          "metadata": {},
          "execution_count": 125
        },
        {
          "output_type": "display_data",
          "data": {
            "image/png": "[encoded data removed]",
            "text/plain": [
              "<Figure size 432x288 with 1 Axes>"
            ]
          },
          "metadata": {
            "needs_background": "light"
          }
        }
      ]
    },
    {
      "cell_type": "code",
      "source": [
        "cleandata['SIZE'].plot(kind='hist',bins=30,figsize=(15,8),facecolor='grey',edgecolor='black')"
      ],
      "metadata": {
        "colab": {
          "base_uri": "https://localhost:8080/",
          "height": 501
        },
        "id": "uCQscMTw7mCx",
        "outputId": "cd4e9b98-2c80-4433-9f46-ac0680702f65"
      },
      "execution_count": null,
      "outputs": [
        {
          "output_type": "execute_result",
          "data": {
            "text/plain": [
              "<matplotlib.axes._subplots.AxesSubplot at 0x7fd7da4add90>"
            ]
          },
          "metadata": {},
          "execution_count": 126
        },
        {
          "output_type": "display_data",
          "data": {
            "image/png": "[encoded data removed]",
            "text/plain": [
              "<Figure size 1080x576 with 1 Axes>"
            ]
          },
          "metadata": {
            "needs_background": "light"
          }
        }
      ]
    },
    {
      "cell_type": "code",
      "source": [
        "cleandata.agg(['skew', 'kurtosis']).transpose()"
      ],
      "metadata": {
        "colab": {
          "base_uri": "https://localhost:8080/",
          "height": 175
        },
        "id": "R1eE8jtr7oYh",
        "outputId": "7b719b64-d79b-4768-c3c7-862d9966d11b"
      },
      "execution_count": null,
      "outputs": [
        {
          "output_type": "execute_result",
          "data": {
            "text/html": [
              "\n",
              "  <div id=\"df-adee5d5b-b90e-4557-a882-402a1b09c49e\">\n",
              "    <div class=\"colab-df-container\">\n",
              "      <div>\n",
              "<style scoped>\n",
              "    .dataframe tbody tr th:only-of-type {\n",
              "        vertical-align: middle;\n",
              "    }\n",
              "\n",
              "    .dataframe tbody tr th {\n",
              "        vertical-align: top;\n",
              "    }\n",
              "\n",
              "    .dataframe thead th {\n",
              "        text-align: right;\n",
              "    }\n",
              "</style>\n",
              "<table border=\"1\" class=\"dataframe\">\n",
              "  <thead>\n",
              "    <tr style=\"text-align: right;\">\n",
              "      <th></th>\n",
              "      <th>skew</th>\n",
              "      <th>kurtosis</th>\n",
              "    </tr>\n",
              "  </thead>\n",
              "  <tbody>\n",
              "    <tr>\n",
              "      <th>PRICE</th>\n",
              "      <td>2.840902</td>\n",
              "      <td>10.598796</td>\n",
              "    </tr>\n",
              "    <tr>\n",
              "      <th>HEIGHT</th>\n",
              "      <td>1.832789</td>\n",
              "      <td>6.131083</td>\n",
              "    </tr>\n",
              "    <tr>\n",
              "      <th>WIDTH</th>\n",
              "      <td>2.055290</td>\n",
              "      <td>8.952752</td>\n",
              "    </tr>\n",
              "    <tr>\n",
              "      <th>SIZE</th>\n",
              "      <td>3.896801</td>\n",
              "      <td>20.714433</td>\n",
              "    </tr>\n",
              "  </tbody>\n",
              "</table>\n",
              "</div>\n",
              "      <button class=\"colab-df-convert\" onclick=\"convertToInteractive('df-adee5d5b-b90e-4557-a882-402a1b09c49e')\"\n",
              "              title=\"Convert this dataframe to an interactive table.\"\n",
              "              style=\"display:none;\">\n",
              "        \n",
              "  <svg xmlns=\"http://www.w3.org/2000/svg\" height=\"24px\"viewBox=\"0 0 24 24\"\n",
              "       width=\"24px\">\n",
              "    <path d=\"M0 0h24v24H0V0z\" fill=\"none\"/>\n",
              "    <path d=\"M18.56 5.44l.94 2.06.94-2.06 2.06-.94-2.06-.94-.94-2.06-.94 2.06-2.06.94zm-11 1L8.5 8.5l.94-2.06 2.06-.94-2.06-.94L8.5 2.5l-.94 2.06-2.06.94zm10 10l.94 2.06.94-2.06 2.06-.94-2.06-.94-.94-2.06-.94 2.06-2.06.94z\"/><path d=\"M17.41 7.96l-1.37-1.37c-.4-.4-.92-.59-1.43-.59-.52 0-1.04.2-1.43.59L10.3 9.45l-7.72 7.72c-.78.78-.78 2.05 0 2.83L4 21.41c.39.39.9.59 1.41.59.51 0 1.02-.2 1.41-.59l7.78-7.78 2.81-2.81c.8-.78.8-2.07 0-2.86zM5.41 20L4 18.59l7.72-7.72 1.47 1.35L5.41 20z\"/>\n",
              "  </svg>\n",
              "      </button>\n",
              "      \n",
              "  <style>\n",
              "    .colab-df-container {\n",
              "      display:flex;\n",
              "      flex-wrap:wrap;\n",
              "      gap: 12px;\n",
              "    }\n",
              "\n",
              "    .colab-df-convert {\n",
              "      background-color: #E8F0FE;\n",
              "      border: none;\n",
              "      border-radius: 50%;\n",
              "      cursor: pointer;\n",
              "      display: none;\n",
              "      fill: #1967D2;\n",
              "      height: 32px;\n",
              "      padding: 0 0 0 0;\n",
              "      width: 32px;\n",
              "    }\n",
              "\n",
              "    .colab-df-convert:hover {\n",
              "      background-color: #E2EBFA;\n",
              "      box-shadow: 0px 1px 2px rgba(60, 64, 67, 0.3), 0px 1px 3px 1px rgba(60, 64, 67, 0.15);\n",
              "      fill: #174EA6;\n",
              "    }\n",
              "\n",
              "    [theme=dark] .colab-df-convert {\n",
              "      background-color: #3B4455;\n",
              "      fill: #D2E3FC;\n",
              "    }\n",
              "\n",
              "    [theme=dark] .colab-df-convert:hover {\n",
              "      background-color: #434B5C;\n",
              "      box-shadow: 0px 1px 3px 1px rgba(0, 0, 0, 0.15);\n",
              "      filter: drop-shadow(0px 1px 2px rgba(0, 0, 0, 0.3));\n",
              "      fill: #FFFFFF;\n",
              "    }\n",
              "  </style>\n",
              "\n",
              "      <script>\n",
              "        const buttonEl =\n",
              "          document.querySelector('#df-adee5d5b-b90e-4557-a882-402a1b09c49e button.colab-df-convert');\n",
              "        buttonEl.style.display =\n",
              "          google.colab.kernel.accessAllowed ? 'block' : 'none';\n",
              "\n",
              "        async function convertToInteractive(key) {\n",
              "          const element = document.querySelector('#df-adee5d5b-b90e-4557-a882-402a1b09c49e');\n",
              "          const dataTable =\n",
              "            await google.colab.kernel.invokeFunction('convertToInteractive',\n",
              "                                                     [key], {});\n",
              "          if (!dataTable) return;\n",
              "\n",
              "          const docLinkHtml = 'Like what you see? Visit the ' +\n",
              "            '<a target=\"_blank\" href=https://colab.research.google.com/notebooks/data_table.ipynb>data table notebook</a>'\n",
              "            + ' to learn more about interactive tables.';\n",
              "          element.innerHTML = '';\n",
              "          dataTable['output_type'] = 'display_data';\n",
              "          await google.colab.output.renderOutput(dataTable, element);\n",
              "          const docLink = document.createElement('div');\n",
              "          docLink.innerHTML = docLinkHtml;\n",
              "          element.appendChild(docLink);\n",
              "        }\n",
              "      </script>\n",
              "    </div>\n",
              "  </div>\n",
              "  "
            ],
            "text/plain": [
              "            skew   kurtosis\n",
              "PRICE   2.840902  10.598796\n",
              "HEIGHT  1.832789   6.131083\n",
              "WIDTH   2.055290   8.952752\n",
              "SIZE    3.896801  20.714433"
            ]
          },
          "metadata": {},
          "execution_count": 127
        }
      ]
    },
    {
      "cell_type": "code",
      "source": [
        "sns.pairplot(cleandata)"
      ],
      "metadata": {
        "colab": {
          "base_uri": "https://localhost:8080/",
          "height": 921
        },
        "id": "Jo-VH8p474K5",
        "outputId": "ea2a5e97-6000-4a45-a801-56b9dafc09ba"
      },
      "execution_count": null,
      "outputs": [
        {
          "output_type": "execute_result",
          "data": {
            "text/plain": [
              "<seaborn.axisgrid.PairGrid at 0x7fd7c9af99d0>"
            ]
          },
          "metadata": {},
          "execution_count": 179
        },
        {
          "output_type": "display_data",
          "data": {
            "image/png": "[encoded data removed]",
            "text/plain": [
              "<Figure size 900x900 with 30 Axes>"
            ]
          },
          "metadata": {
            "needs_background": "light"
          }
        }
      ]
    },
    {
      "cell_type": "code",
      "source": [
        "cleandata.boxplot([\"SIZE\"])"
      ],
      "metadata": {
        "colab": {
          "base_uri": "https://localhost:8080/",
          "height": 283
        },
        "id": "zYHAv9dr8dvN",
        "outputId": "5f0a28d9-f5a4-42d5-877d-08aa52043dcd"
      },
      "execution_count": null,
      "outputs": [
        {
          "output_type": "execute_result",
          "data": {
            "text/plain": [
              "<matplotlib.axes._subplots.AxesSubplot at 0x7fd7ca2dc5d0>"
            ]
          },
          "metadata": {},
          "execution_count": 129
        },
        {
          "output_type": "display_data",
          "data": {
            "image/png": "[encoded data removed]",
            "text/plain": [
              "<Figure size 432x288 with 1 Axes>"
            ]
          },
          "metadata": {
            "needs_background": "light"
          }
        }
      ]
    },
    {
      "cell_type": "markdown",
      "source": [
        "#### Applying Log Transformation to the new variable \"size\""
      ],
      "metadata": {
        "id": "m8oewT_Np2rW"
      }
    },
    {
      "cell_type": "code",
      "source": [
        "cleandata['TRANS_SIZE'] = np.log(cleandata['SIZE'])"
      ],
      "metadata": {
        "id": "B1_PupTTEjik"
      },
      "execution_count": null,
      "outputs": []
    },
    {
      "cell_type": "code",
      "source": [
        "cleandata['TRANS_SIZE'].plot(kind='hist',bins=30,figsize=(15,8),facecolor='cyan',edgecolor='black')"
      ],
      "metadata": {
        "colab": {
          "base_uri": "https://localhost:8080/",
          "height": 501
        },
        "id": "H3n2v7LGFNum",
        "outputId": "48064401-31b2-4ada-b110-7a4d75022aad"
      },
      "execution_count": null,
      "outputs": [
        {
          "output_type": "execute_result",
          "data": {
            "text/plain": [
              "<matplotlib.axes._subplots.AxesSubplot at 0x7fd7c9effcd0>"
            ]
          },
          "metadata": {},
          "execution_count": 131
        },
        {
          "output_type": "display_data",
          "data": {
            "image/png": "[encoded data removed]",
            "text/plain": [
              "<Figure size 1080x576 with 1 Axes>"
            ]
          },
          "metadata": {
            "needs_background": "light"
          }
        }
      ]
    },
    {
      "cell_type": "code",
      "source": [
        "corr = cleandata.corr()\n",
        "sns.heatmap(corr, xticklabels=corr.columns, yticklabels=corr.columns, annot =True)\n",
        "cmap = sns.diverging_palette(220,20, as_cmap = True)"
      ],
      "metadata": {
        "colab": {
          "base_uri": "https://localhost:8080/",
          "height": 270
        },
        "id": "i6zEbEuxFWd7",
        "outputId": "e7aa6db5-a860-4df2-904d-bb7908bc5717"
      },
      "execution_count": null,
      "outputs": [
        {
          "output_type": "display_data",
          "data": {
            "image/png": "[encoded data removed]",
            "text/plain": [
              "<Figure size 432x288 with 2 Axes>"
            ]
          },
          "metadata": {
            "needs_background": "light"
          }
        }
      ]
    },
    {
      "cell_type": "code",
      "source": [
        "cleandata.describe()"
      ],
      "metadata": {
        "colab": {
          "base_uri": "https://localhost:8080/",
          "height": 300
        },
        "id": "lx2NS9ATKk6r",
        "outputId": "2c8af0ce-f8ec-4fa3-e379-e1ac938215ad"
      },
      "execution_count": null,
      "outputs": [
        {
          "output_type": "execute_result",
          "data": {
            "text/html": [
              "\n",
              "  <div id=\"df-ec4752a1-9ad2-4d0d-9a3c-bc6a6a137666\">\n",
              "    <div class=\"colab-df-container\">\n",
              "      <div>\n",
              "<style scoped>\n",
              "    .dataframe tbody tr th:only-of-type {\n",
              "        vertical-align: middle;\n",
              "    }\n",
              "\n",
              "    .dataframe tbody tr th {\n",
              "        vertical-align: top;\n",
              "    }\n",
              "\n",
              "    .dataframe thead th {\n",
              "        text-align: right;\n",
              "    }\n",
              "</style>\n",
              "<table border=\"1\" class=\"dataframe\">\n",
              "  <thead>\n",
              "    <tr style=\"text-align: right;\">\n",
              "      <th></th>\n",
              "      <th>PRICE</th>\n",
              "      <th>HEIGHT</th>\n",
              "      <th>WIDTH</th>\n",
              "      <th>SIZE</th>\n",
              "      <th>TRANS_SIZE</th>\n",
              "    </tr>\n",
              "  </thead>\n",
              "  <tbody>\n",
              "    <tr>\n",
              "      <th>count</th>\n",
              "      <td>430.000000</td>\n",
              "      <td>430.000000</td>\n",
              "      <td>430.000000</td>\n",
              "      <td>430.000000</td>\n",
              "      <td>430.000000</td>\n",
              "    </tr>\n",
              "    <tr>\n",
              "      <th>mean</th>\n",
              "      <td>3.089996</td>\n",
              "      <td>27.646977</td>\n",
              "      <td>32.111395</td>\n",
              "      <td>940.811558</td>\n",
              "      <td>6.680066</td>\n",
              "    </tr>\n",
              "    <tr>\n",
              "      <th>std</th>\n",
              "      <td>4.311260</td>\n",
              "      <td>10.097013</td>\n",
              "      <td>10.459677</td>\n",
              "      <td>676.539289</td>\n",
              "      <td>0.588091</td>\n",
              "    </tr>\n",
              "    <tr>\n",
              "      <th>min</th>\n",
              "      <td>0.010413</td>\n",
              "      <td>3.900000</td>\n",
              "      <td>6.700000</td>\n",
              "      <td>26.130000</td>\n",
              "      <td>3.263084</td>\n",
              "    </tr>\n",
              "    <tr>\n",
              "      <th>25%</th>\n",
              "      <td>0.600153</td>\n",
              "      <td>23.125000</td>\n",
              "      <td>28.525000</td>\n",
              "      <td>637.902500</td>\n",
              "      <td>6.458185</td>\n",
              "    </tr>\n",
              "    <tr>\n",
              "      <th>50%</th>\n",
              "      <td>1.312782</td>\n",
              "      <td>25.600000</td>\n",
              "      <td>31.900000</td>\n",
              "      <td>816.640000</td>\n",
              "      <td>6.705198</td>\n",
              "    </tr>\n",
              "    <tr>\n",
              "      <th>75%</th>\n",
              "      <td>3.850000</td>\n",
              "      <td>31.450000</td>\n",
              "      <td>36.200000</td>\n",
              "      <td>1036.605000</td>\n",
              "      <td>6.943699</td>\n",
              "    </tr>\n",
              "    <tr>\n",
              "      <th>max</th>\n",
              "      <td>33.013504</td>\n",
              "      <td>78.700000</td>\n",
              "      <td>89.000000</td>\n",
              "      <td>6193.690000</td>\n",
              "      <td>8.731286</td>\n",
              "    </tr>\n",
              "  </tbody>\n",
              "</table>\n",
              "</div>\n",
              "      <button class=\"colab-df-convert\" onclick=\"convertToInteractive('df-ec4752a1-9ad2-4d0d-9a3c-bc6a6a137666')\"\n",
              "              title=\"Convert this dataframe to an interactive table.\"\n",
              "              style=\"display:none;\">\n",
              "        \n",
              "  <svg xmlns=\"http://www.w3.org/2000/svg\" height=\"24px\"viewBox=\"0 0 24 24\"\n",
              "       width=\"24px\">\n",
              "    <path d=\"M0 0h24v24H0V0z\" fill=\"none\"/>\n",
              "    <path d=\"M18.56 5.44l.94 2.06.94-2.06 2.06-.94-2.06-.94-.94-2.06-.94 2.06-2.06.94zm-11 1L8.5 8.5l.94-2.06 2.06-.94-2.06-.94L8.5 2.5l-.94 2.06-2.06.94zm10 10l.94 2.06.94-2.06 2.06-.94-2.06-.94-.94-2.06-.94 2.06-2.06.94z\"/><path d=\"M17.41 7.96l-1.37-1.37c-.4-.4-.92-.59-1.43-.59-.52 0-1.04.2-1.43.59L10.3 9.45l-7.72 7.72c-.78.78-.78 2.05 0 2.83L4 21.41c.39.39.9.59 1.41.59.51 0 1.02-.2 1.41-.59l7.78-7.78 2.81-2.81c.8-.78.8-2.07 0-2.86zM5.41 20L4 18.59l7.72-7.72 1.47 1.35L5.41 20z\"/>\n",
              "  </svg>\n",
              "      </button>\n",
              "      \n",
              "  <style>\n",
              "    .colab-df-container {\n",
              "      display:flex;\n",
              "      flex-wrap:wrap;\n",
              "      gap: 12px;\n",
              "    }\n",
              "\n",
              "    .colab-df-convert {\n",
              "      background-color: #E8F0FE;\n",
              "      border: none;\n",
              "      border-radius: 50%;\n",
              "      cursor: pointer;\n",
              "      display: none;\n",
              "      fill: #1967D2;\n",
              "      height: 32px;\n",
              "      padding: 0 0 0 0;\n",
              "      width: 32px;\n",
              "    }\n",
              "\n",
              "    .colab-df-convert:hover {\n",
              "      background-color: #E2EBFA;\n",
              "      box-shadow: 0px 1px 2px rgba(60, 64, 67, 0.3), 0px 1px 3px 1px rgba(60, 64, 67, 0.15);\n",
              "      fill: #174EA6;\n",
              "    }\n",
              "\n",
              "    [theme=dark] .colab-df-convert {\n",
              "      background-color: #3B4455;\n",
              "      fill: #D2E3FC;\n",
              "    }\n",
              "\n",
              "    [theme=dark] .colab-df-convert:hover {\n",
              "      background-color: #434B5C;\n",
              "      box-shadow: 0px 1px 3px 1px rgba(0, 0, 0, 0.15);\n",
              "      filter: drop-shadow(0px 1px 2px rgba(0, 0, 0, 0.3));\n",
              "      fill: #FFFFFF;\n",
              "    }\n",
              "  </style>\n",
              "\n",
              "      <script>\n",
              "        const buttonEl =\n",
              "          document.querySelector('#df-ec4752a1-9ad2-4d0d-9a3c-bc6a6a137666 button.colab-df-convert');\n",
              "        buttonEl.style.display =\n",
              "          google.colab.kernel.accessAllowed ? 'block' : 'none';\n",
              "\n",
              "        async function convertToInteractive(key) {\n",
              "          const element = document.querySelector('#df-ec4752a1-9ad2-4d0d-9a3c-bc6a6a137666');\n",
              "          const dataTable =\n",
              "            await google.colab.kernel.invokeFunction('convertToInteractive',\n",
              "                                                     [key], {});\n",
              "          if (!dataTable) return;\n",
              "\n",
              "          const docLinkHtml = 'Like what you see? Visit the ' +\n",
              "            '<a target=\"_blank\" href=https://colab.research.google.com/notebooks/data_table.ipynb>data table notebook</a>'\n",
              "            + ' to learn more about interactive tables.';\n",
              "          element.innerHTML = '';\n",
              "          dataTable['output_type'] = 'display_data';\n",
              "          await google.colab.output.renderOutput(dataTable, element);\n",
              "          const docLink = document.createElement('div');\n",
              "          docLink.innerHTML = docLinkHtml;\n",
              "          element.appendChild(docLink);\n",
              "        }\n",
              "      </script>\n",
              "    </div>\n",
              "  </div>\n",
              "  "
            ],
            "text/plain": [
              "            PRICE      HEIGHT       WIDTH         SIZE  TRANS_SIZE\n",
              "count  430.000000  430.000000  430.000000   430.000000  430.000000\n",
              "mean     3.089996   27.646977   32.111395   940.811558    6.680066\n",
              "std      4.311260   10.097013   10.459677   676.539289    0.588091\n",
              "min      0.010413    3.900000    6.700000    26.130000    3.263084\n",
              "25%      0.600153   23.125000   28.525000   637.902500    6.458185\n",
              "50%      1.312782   25.600000   31.900000   816.640000    6.705198\n",
              "75%      3.850000   31.450000   36.200000  1036.605000    6.943699\n",
              "max     33.013504   78.700000   89.000000  6193.690000    8.731286"
            ]
          },
          "metadata": {},
          "execution_count": 133
        }
      ]
    },
    {
      "cell_type": "code",
      "source": [
        "from sklearn import linear_model\n",
        "from sklearn import preprocessing\n",
        "from sklearn.model_selection import train_test_split\n",
        "from sklearn import metrics"
      ],
      "metadata": {
        "id": "ggqciBicjaom"
      },
      "execution_count": null,
      "outputs": []
    },
    {
      "cell_type": "markdown",
      "source": [
        "####Simple Linear Regression Model-1"
      ],
      "metadata": {
        "id": "KB7PvCM9t8KF"
      }
    },
    {
      "cell_type": "code",
      "source": [
        "y = cleandata['PRICE'].values.reshape(-1,1)\n",
        "x = cleandata[['HEIGHT']].values.reshape(-1,1)"
      ],
      "metadata": {
        "id": "soEBlXmWlb5k"
      },
      "execution_count": null,
      "outputs": []
    },
    {
      "cell_type": "code",
      "source": [
        "x_train, x_test, y_train, y_test = train_test_split(x, y, test_size=0.3, random_state=42)"
      ],
      "metadata": {
        "id": "SgcQq3Hql-Ug"
      },
      "execution_count": null,
      "outputs": []
    },
    {
      "cell_type": "code",
      "source": [
        "simplelinearmodel1 = linear_model.LinearRegression()\n",
        "simplelinearmodel1.fit(x_train, y_train)\n",
        "predicted_y = simplelinearmodel1.predict(x_test)"
      ],
      "metadata": {
        "id": "BqIkZMIFmGZ2"
      },
      "execution_count": null,
      "outputs": []
    },
    {
      "cell_type": "code",
      "source": [
        "plt.scatter(x_train, y_train, color = 'gold')\n",
        "plt.plot(x_test, predicted_y, color = 'red')\n",
        "plt.xlabel(\"HEIGHT\")\n",
        "plt.ylabel(\"PRICE\")\n",
        "plt.show()"
      ],
      "metadata": {
        "colab": {
          "base_uri": "https://localhost:8080/",
          "height": 279
        },
        "id": "YPYBEy-omNsO",
        "outputId": "fdb820bd-6877-4053-9792-3a9f4971e3b9"
      },
      "execution_count": null,
      "outputs": [
        {
          "output_type": "display_data",
          "data": {
            "image/png": "[encoded data removed]",
            "text/plain": [
              "<Figure size 432x288 with 1 Axes>"
            ]
          },
          "metadata": {
            "needs_background": "light"
          }
        }
      ]
    },
    {
      "cell_type": "code",
      "source": [
        "print(\"The intercept of the linear model is,\"+str(simplelinearmodel1.intercept_)+\" and the coefficient is,\"+str(simplelinearmodel1.coef_[0]))"
      ],
      "metadata": {
        "colab": {
          "base_uri": "https://localhost:8080/"
        },
        "id": "yzXuU2hzmws5",
        "outputId": "b157854a-c5d7-44d6-db48-5e57877193df"
      },
      "execution_count": null,
      "outputs": [
        {
          "output_type": "stream",
          "name": "stdout",
          "text": [
            "The intercept of the linear model is,[-0.59779596] and the coefficient is,[0.13730289]\n"
          ]
        }
      ]
    },
    {
      "cell_type": "code",
      "source": [
        "mean_absolute_error = metrics.mean_absolute_error(y_test, predicted_y)\n",
        "rmse = metrics.mean_squared_error(y_test, predicted_y)\n",
        "r2 = metrics.r2_score(y_test, predicted_y)\n",
        "print(\"Mean Absolute Error :\" , mean_absolute_error)\n",
        "print(\"Root Mean Square Error :\" , rmse)\n",
        "print(\"R Square Error:\", r2)"
      ],
      "metadata": {
        "colab": {
          "base_uri": "https://localhost:8080/"
        },
        "id": "18ZRlSyVmz5l",
        "outputId": "780c3e12-27ae-4cc6-be80-75764733f076"
      },
      "execution_count": null,
      "outputs": [
        {
          "output_type": "stream",
          "name": "stdout",
          "text": [
            "Mean Absolute Error : 2.355755309349786\n",
            "Root Mean Square Error : 15.612011205167573\n",
            "R Square Error: 0.06883002841152508\n"
          ]
        }
      ]
    },
    {
      "cell_type": "markdown",
      "source": [
        "####Simple Linear Regression Model-2"
      ],
      "metadata": {
        "id": "ugMxgo98Dyjy"
      }
    },
    {
      "cell_type": "code",
      "source": [
        "y = cleandata['PRICE'].values.reshape(-1,1)\n",
        "x = cleandata[['WIDTH']].values.reshape(-1,1)"
      ],
      "metadata": {
        "id": "DOhjPVlBEEmh"
      },
      "execution_count": null,
      "outputs": []
    },
    {
      "cell_type": "code",
      "source": [
        "x_train, x_test, y_train, y_test = train_test_split(x, y, test_size=0.3, random_state=42)"
      ],
      "metadata": {
        "id": "AA0u7iryEEmi"
      },
      "execution_count": null,
      "outputs": []
    },
    {
      "cell_type": "code",
      "source": [
        "simplelinearmodel2 = linear_model.LinearRegression()\n",
        "simplelinearmodel2.fit(x_train, y_train)\n",
        "predicted_y = simplelinearmodel2.predict(x_test)"
      ],
      "metadata": {
        "id": "OUCblHQEEEmi"
      },
      "execution_count": null,
      "outputs": []
    },
    {
      "cell_type": "code",
      "source": [
        "plt.scatter(x_train, y_train, color = 'lime')\n",
        "plt.plot(x_test, predicted_y, color = 'red')\n",
        "plt.xlabel(\"WIDTH\")\n",
        "plt.ylabel(\"PRICE\")\n",
        "plt.show()"
      ],
      "metadata": {
        "colab": {
          "base_uri": "https://localhost:8080/",
          "height": 279
        },
        "outputId": "dbed523b-212f-4596-bb68-9030fbcc468d",
        "id": "qCTQF1UnEEmi"
      },
      "execution_count": null,
      "outputs": [
        {
          "output_type": "display_data",
          "data": {
            "image/png": "[encoded data removed]",
            "text/plain": [
              "<Figure size 432x288 with 1 Axes>"
            ]
          },
          "metadata": {
            "needs_background": "light"
          }
        }
      ]
    },
    {
      "cell_type": "code",
      "source": [
        "print(\"The intercept of the linear model is,\"+str(simplelinearmodel2.intercept_)+\" and the coefficient is,\"+str(simplelinearmodel2.coef_[0]))"
      ],
      "metadata": {
        "colab": {
          "base_uri": "https://localhost:8080/"
        },
        "outputId": "be76754e-f5c5-4888-b438-6ed968d00065",
        "id": "Ed0jw-AeEEmj"
      },
      "execution_count": null,
      "outputs": [
        {
          "output_type": "stream",
          "name": "stdout",
          "text": [
            "The intercept of the linear model is,[-1.39024506] and the coefficient is,[0.14670865]\n"
          ]
        }
      ]
    },
    {
      "cell_type": "code",
      "source": [
        "mean_absolute_error = metrics.mean_absolute_error(y_test, predicted_y)\n",
        "rmse = metrics.mean_squared_error(y_test, predicted_y)\n",
        "r2 = metrics.r2_score(y_test, predicted_y)\n",
        "print(\"Mean Absolute Error :\" , mean_absolute_error)\n",
        "print(\"Root Mean Square Error :\" , rmse)\n",
        "print(\"R Square Error:\", r2)"
      ],
      "metadata": {
        "colab": {
          "base_uri": "https://localhost:8080/"
        },
        "outputId": "fac743ff-09c5-4b76-d3b1-927f8a051268",
        "id": "X2npEFuBEEmj"
      },
      "execution_count": null,
      "outputs": [
        {
          "output_type": "stream",
          "name": "stdout",
          "text": [
            "Mean Absolute Error : 2.487673225425967\n",
            "Root Mean Square Error : 15.306773245853007\n",
            "R Square Error: 0.08703578154399716\n"
          ]
        }
      ]
    },
    {
      "cell_type": "markdown",
      "source": [
        "####Simple Linear Regression Model-3"
      ],
      "metadata": {
        "id": "1yIMSsEWEd20"
      }
    },
    {
      "cell_type": "code",
      "source": [
        "y = cleandata['PRICE'].values.reshape(-1,1)\n",
        "x = cleandata[['SIZE']].values.reshape(-1,1)"
      ],
      "metadata": {
        "id": "j8wNqqgAEow9"
      },
      "execution_count": null,
      "outputs": []
    },
    {
      "cell_type": "code",
      "source": [
        "x_train, x_test, y_train, y_test = train_test_split(x, y, test_size=0.3, random_state=42)"
      ],
      "metadata": {
        "id": "607p8ne5Eow9"
      },
      "execution_count": null,
      "outputs": []
    },
    {
      "cell_type": "code",
      "source": [
        "simplelinearmodel3 = linear_model.LinearRegression()\n",
        "simplelinearmodel3.fit(x_train, y_train)\n",
        "predicted_y = simplelinearmodel3.predict(x_test)"
      ],
      "metadata": {
        "id": "cSa0gBcYEow-"
      },
      "execution_count": null,
      "outputs": []
    },
    {
      "cell_type": "code",
      "source": [
        "plt.scatter(x_train, y_train, color = 'deepskyblue')\n",
        "plt.plot(x_test, predicted_y, color = 'red')\n",
        "plt.xlabel(\"SIZE\")\n",
        "plt.ylabel(\"PRICE\")\n",
        "plt.show()"
      ],
      "metadata": {
        "colab": {
          "base_uri": "https://localhost:8080/",
          "height": 279
        },
        "outputId": "919ec456-d997-43db-caaf-2ce15a285769",
        "id": "yigIS8sdEow-"
      },
      "execution_count": null,
      "outputs": [
        {
          "output_type": "display_data",
          "data": {
            "image/png": "[encoded data removed]",
            "text/plain": [
              "<Figure size 432x288 with 1 Axes>"
            ]
          },
          "metadata": {
            "needs_background": "light"
          }
        }
      ]
    },
    {
      "cell_type": "code",
      "source": [
        "print(\"The intercept of the linear model is,\"+str(simplelinearmodel3.intercept_)+\" and the coefficient is,\"+str(simplelinearmodel3.coef_[0]))"
      ],
      "metadata": {
        "colab": {
          "base_uri": "https://localhost:8080/"
        },
        "outputId": "bd00db41-884a-4729-aef6-1122b45f2ba9",
        "id": "veG6kH8ZEow-"
      },
      "execution_count": null,
      "outputs": [
        {
          "output_type": "stream",
          "name": "stdout",
          "text": [
            "The intercept of the linear model is,[1.02570299] and the coefficient is,[0.00236759]\n"
          ]
        }
      ]
    },
    {
      "cell_type": "code",
      "source": [
        "mean_absolute_error = metrics.mean_absolute_error(y_test, predicted_y)\n",
        "rmse = metrics.mean_squared_error(y_test, predicted_y)\n",
        "r2 = metrics.r2_score(y_test, predicted_y)\n",
        "print(\"Mean Absolute Error :\" , mean_absolute_error)\n",
        "print(\"Root Mean Square Error :\" , rmse)\n",
        "print(\"R Square Error:\", r2)"
      ],
      "metadata": {
        "colab": {
          "base_uri": "https://localhost:8080/"
        },
        "outputId": "69ce652d-be88-4083-e251-b2846f143252",
        "id": "zKF2MB6pEow-"
      },
      "execution_count": null,
      "outputs": [
        {
          "output_type": "stream",
          "name": "stdout",
          "text": [
            "Mean Absolute Error : 2.4024378443329524\n",
            "Root Mean Square Error : 15.45121620702567\n",
            "R Square Error: 0.07842055918194912\n"
          ]
        }
      ]
    },
    {
      "cell_type": "markdown",
      "source": [
        "####Simple Linear Regression Model-4"
      ],
      "metadata": {
        "id": "kMiaeV_IFXQh"
      }
    },
    {
      "cell_type": "code",
      "source": [
        "y = cleandata['PRICE'].values.reshape(-1,1)\n",
        "x = cleandata[['TRANS_SIZE']].values.reshape(-1,1)"
      ],
      "metadata": {
        "id": "accy73NEFbX1"
      },
      "execution_count": null,
      "outputs": []
    },
    {
      "cell_type": "code",
      "source": [
        "x_train, x_test, y_train, y_test = train_test_split(x, y, test_size=0.3, random_state=42)"
      ],
      "metadata": {
        "id": "GD1ZxUYiFbX1"
      },
      "execution_count": null,
      "outputs": []
    },
    {
      "cell_type": "code",
      "source": [
        "simplelinearmodel4 = linear_model.LinearRegression()\n",
        "simplelinearmodel4.fit(x_train, y_train)\n",
        "predicted_y = simplelinearmodel4.predict(x_test)"
      ],
      "metadata": {
        "id": "Tx45std_FbX2"
      },
      "execution_count": null,
      "outputs": []
    },
    {
      "cell_type": "code",
      "source": [
        "plt.scatter(x_train, y_train, color = 'grey')\n",
        "plt.plot(x_test, predicted_y, color = 'red')\n",
        "plt.xlabel(\"TRANSFRORMED SIZE\")\n",
        "plt.ylabel(\"PRICE\")\n",
        "plt.show()"
      ],
      "metadata": {
        "colab": {
          "base_uri": "https://localhost:8080/",
          "height": 279
        },
        "outputId": "b569f6ea-eb71-4df2-9350-bca2a79b50b8",
        "id": "GZldVKAeFbX2"
      },
      "execution_count": null,
      "outputs": [
        {
          "output_type": "display_data",
          "data": {
            "image/png": "[encoded data removed]",
            "text/plain": [
              "<Figure size 432x288 with 1 Axes>"
            ]
          },
          "metadata": {
            "needs_background": "light"
          }
        }
      ]
    },
    {
      "cell_type": "code",
      "source": [
        "print(\"The intercept of the linear model is,\"+str(simplelinearmodel4.intercept_)+\" and the coefficient is,\"+str(simplelinearmodel4.coef_[0]))"
      ],
      "metadata": {
        "colab": {
          "base_uri": "https://localhost:8080/"
        },
        "outputId": "dee811ec-3e75-4827-b3ab-a5e5c122a38c",
        "id": "aXcDvhlUFbX2"
      },
      "execution_count": null,
      "outputs": [
        {
          "output_type": "stream",
          "name": "stdout",
          "text": [
            "The intercept of the linear model is,[-15.9900074] and the coefficient is,[2.88328553]\n"
          ]
        }
      ]
    },
    {
      "cell_type": "code",
      "source": [
        "mean_absolute_error = metrics.mean_absolute_error(y_test, predicted_y)\n",
        "rmse = metrics.mean_squared_error(y_test, predicted_y)\n",
        "r2 = metrics.r2_score(y_test, predicted_y)\n",
        "print(\"Mean Absolute Error :\" , mean_absolute_error)\n",
        "print(\"Root Mean Square Error :\" , rmse)\n",
        "print(\"R Square Error:\", r2)"
      ],
      "metadata": {
        "colab": {
          "base_uri": "https://localhost:8080/"
        },
        "outputId": "39727c8c-6860-47c3-c3a0-7ec37ea4388c",
        "id": "wB1DK9PZFbX3"
      },
      "execution_count": null,
      "outputs": [
        {
          "output_type": "stream",
          "name": "stdout",
          "text": [
            "Mean Absolute Error : 2.4608447181601356\n",
            "Root Mean Square Error : 15.184700861955218\n",
            "R Square Error: 0.09431672291356374\n"
          ]
        }
      ]
    },
    {
      "cell_type": "markdown",
      "source": [
        "####Simple Linear Regression Model-5"
      ],
      "metadata": {
        "id": "cbAfTOOPIdjY"
      }
    },
    {
      "cell_type": "code",
      "source": [
        "cleandata1 = cleandata.copy()"
      ],
      "metadata": {
        "id": "HP1CnCCMIjGJ"
      },
      "execution_count": null,
      "outputs": []
    },
    {
      "cell_type": "code",
      "source": [
        "cleandata1['TRANS_PRICE'] = np.log(cleandata1['PRICE'])"
      ],
      "metadata": {
        "id": "R2r-WWDhIcSI"
      },
      "execution_count": null,
      "outputs": []
    },
    {
      "cell_type": "code",
      "source": [
        "y = cleandata1['TRANS_PRICE'].values.reshape(-1,1)\n",
        "x = cleandata[['TRANS_SIZE']].values.reshape(-1,1)"
      ],
      "metadata": {
        "id": "4A8A6UwDIwmE"
      },
      "execution_count": null,
      "outputs": []
    },
    {
      "cell_type": "code",
      "source": [
        "x_train, x_test, y_train, y_test = train_test_split(x, y, test_size=0.3, random_state=42)"
      ],
      "metadata": {
        "id": "FM9dk1bYIwmE"
      },
      "execution_count": null,
      "outputs": []
    },
    {
      "cell_type": "code",
      "source": [
        "simplelinearmodel5 = linear_model.LinearRegression()\n",
        "simplelinearmodel5.fit(x_train, y_train)\n",
        "predicted_y = simplelinearmodel5.predict(x_test)"
      ],
      "metadata": {
        "id": "I8YHk39NIwmF"
      },
      "execution_count": null,
      "outputs": []
    },
    {
      "cell_type": "code",
      "source": [
        "plt.scatter(x_train, y_train, color = 'thistle')\n",
        "plt.plot(x_test, predicted_y, color = 'red')\n",
        "plt.xlabel(\"TRANSFORMED SIZE\")\n",
        "plt.ylabel(\"TRANSFORMED PRICE\")\n",
        "plt.show()"
      ],
      "metadata": {
        "colab": {
          "base_uri": "https://localhost:8080/",
          "height": 279
        },
        "outputId": "52d95b4d-93e9-414d-c835-06d075ccb1de",
        "id": "iwgjZeCwIwmF"
      },
      "execution_count": null,
      "outputs": [
        {
          "output_type": "display_data",
          "data": {
            "image/png": "[encoded data removed]",
            "text/plain": [
              "<Figure size 432x288 with 1 Axes>"
            ]
          },
          "metadata": {
            "needs_background": "light"
          }
        }
      ]
    },
    {
      "cell_type": "code",
      "source": [
        "print(\"The intercept of the linear model is,\"+str(simplelinearmodel5.intercept_)+\" and the coefficient is,\"+str(simplelinearmodel5.coef_[0]))"
      ],
      "metadata": {
        "colab": {
          "base_uri": "https://localhost:8080/"
        },
        "outputId": "60dfd869-963f-49b1-8504-e113b44e8766",
        "id": "t4jXOhgmIwmF"
      },
      "execution_count": null,
      "outputs": [
        {
          "output_type": "stream",
          "name": "stdout",
          "text": [
            "The intercept of the linear model is,[-8.91293338] and the coefficient is,[1.38742667]\n"
          ]
        }
      ]
    },
    {
      "cell_type": "code",
      "source": [
        "mean_absolute_error = metrics.mean_absolute_error(y_test, predicted_y)\n",
        "rmse = metrics.mean_squared_error(y_test, predicted_y)\n",
        "r2 = metrics.r2_score(y_test, predicted_y)\n",
        "print(\"Mean Absolute Error :\" , mean_absolute_error)\n",
        "print(\"Root Mean Square Error :\" , rmse)\n",
        "print(\"R Square Error:\", r2)"
      ],
      "metadata": {
        "colab": {
          "base_uri": "https://localhost:8080/"
        },
        "outputId": "93a73096-c5ed-4164-920d-dadfc63ce7eb",
        "id": "6qizY-W1IwmF"
      },
      "execution_count": null,
      "outputs": [
        {
          "output_type": "stream",
          "name": "stdout",
          "text": [
            "Mean Absolute Error : 0.8010582386764501\n",
            "Root Mean Square Error : 1.1330512414530571\n",
            "R Square Error: 0.25775867794810714\n"
          ]
        }
      ]
    },
    {
      "cell_type": "markdown",
      "source": [
        "####Using 'statsmodels' to compare the best model from 'sklearn'"
      ],
      "metadata": {
        "id": "NEpeRqCaBrVw"
      }
    },
    {
      "cell_type": "code",
      "source": [
        "from statsmodels import api\n",
        "from scipy import stats\n",
        "from scipy.optimize import minimize"
      ],
      "metadata": {
        "id": "4M0VCHBgnFzG"
      },
      "execution_count": null,
      "outputs": []
    },
    {
      "cell_type": "code",
      "source": [
        "parameters = api.add_constant(cleandata1.TRANS_SIZE)\n",
        "olslinearmodel = api.OLS(cleandata1.TRANS_PRICE, parameters).fit()\n",
        "olslinearmodel.summary()"
      ],
      "metadata": {
        "colab": {
          "base_uri": "https://localhost:8080/",
          "height": 507
        },
        "id": "cGfgxNxunKhU",
        "outputId": "ed687290-8e2f-4394-f4e2-194cd9ac895e"
      },
      "execution_count": null,
      "outputs": [
        {
          "output_type": "stream",
          "name": "stderr",
          "text": [
            "/usr/local/lib/python3.7/dist-packages/statsmodels/tsa/tsatools.py:117: FutureWarning: In a future version of pandas all arguments of concat except for the argument 'objs' will be keyword-only\n",
            "  x = pd.concat(x[::order], 1)\n"
          ]
        },
        {
          "output_type": "execute_result",
          "data": {
            "text/html": [
              "<table class=\"simpletable\">\n",
              "<caption>OLS Regression Results</caption>\n",
              "<tr>\n",
              "  <th>Dep. Variable:</th>       <td>TRANS_PRICE</td>   <th>  R-squared:         </th> <td>   0.334</td>\n",
              "</tr>\n",
              "<tr>\n",
              "  <th>Model:</th>                   <td>OLS</td>       <th>  Adj. R-squared:    </th> <td>   0.332</td>\n",
              "</tr>\n",
              "<tr>\n",
              "  <th>Method:</th>             <td>Least Squares</td>  <th>  F-statistic:       </th> <td>   214.2</td>\n",
              "</tr>\n",
              "<tr>\n",
              "  <th>Date:</th>             <td>Mon, 07 Feb 2022</td> <th>  Prob (F-statistic):</th> <td>1.27e-39</td>\n",
              "</tr>\n",
              "<tr>\n",
              "  <th>Time:</th>                 <td>02:35:48</td>     <th>  Log-Likelihood:    </th> <td> -651.51</td>\n",
              "</tr>\n",
              "<tr>\n",
              "  <th>No. Observations:</th>      <td>   430</td>      <th>  AIC:               </th> <td>   1307.</td>\n",
              "</tr>\n",
              "<tr>\n",
              "  <th>Df Residuals:</th>          <td>   428</td>      <th>  BIC:               </th> <td>   1315.</td>\n",
              "</tr>\n",
              "<tr>\n",
              "  <th>Df Model:</th>              <td>     1</td>      <th>                     </th>     <td> </td>   \n",
              "</tr>\n",
              "<tr>\n",
              "  <th>Covariance Type:</th>      <td>nonrobust</td>    <th>                     </th>     <td> </td>   \n",
              "</tr>\n",
              "</table>\n",
              "<table class=\"simpletable\">\n",
              "<tr>\n",
              "       <td></td>         <th>coef</th>     <th>std err</th>      <th>t</th>      <th>P>|t|</th>  <th>[0.025</th>    <th>0.975]</th>  \n",
              "</tr>\n",
              "<tr>\n",
              "  <th>const</th>      <td>   -8.5256</td> <td>    0.608</td> <td>  -14.033</td> <td> 0.000</td> <td>   -9.720</td> <td>   -7.331</td>\n",
              "</tr>\n",
              "<tr>\n",
              "  <th>TRANS_SIZE</th> <td>    1.3261</td> <td>    0.091</td> <td>   14.637</td> <td> 0.000</td> <td>    1.148</td> <td>    1.504</td>\n",
              "</tr>\n",
              "</table>\n",
              "<table class=\"simpletable\">\n",
              "<tr>\n",
              "  <th>Omnibus:</th>       <td> 0.552</td> <th>  Durbin-Watson:     </th> <td>   1.674</td>\n",
              "</tr>\n",
              "<tr>\n",
              "  <th>Prob(Omnibus):</th> <td> 0.759</td> <th>  Jarque-Bera (JB):  </th> <td>   0.356</td>\n",
              "</tr>\n",
              "<tr>\n",
              "  <th>Skew:</th>          <td> 0.001</td> <th>  Prob(JB):          </th> <td>   0.837</td>\n",
              "</tr>\n",
              "<tr>\n",
              "  <th>Kurtosis:</th>      <td> 3.141</td> <th>  Cond. No.          </th> <td>    78.2</td>\n",
              "</tr>\n",
              "</table><br/><br/>Warnings:<br/>[1] Standard Errors assume that the covariance matrix of the errors is correctly specified."
            ],
            "text/plain": [
              "<class 'statsmodels.iolib.summary.Summary'>\n",
              "\"\"\"\n",
              "                            OLS Regression Results                            \n",
              "==============================================================================\n",
              "Dep. Variable:            TRANS_PRICE   R-squared:                       0.334\n",
              "Model:                            OLS   Adj. R-squared:                  0.332\n",
              "Method:                 Least Squares   F-statistic:                     214.2\n",
              "Date:                Mon, 07 Feb 2022   Prob (F-statistic):           1.27e-39\n",
              "Time:                        02:35:48   Log-Likelihood:                -651.51\n",
              "No. Observations:                 430   AIC:                             1307.\n",
              "Df Residuals:                     428   BIC:                             1315.\n",
              "Df Model:                           1                                         \n",
              "Covariance Type:            nonrobust                                         \n",
              "==============================================================================\n",
              "                 coef    std err          t      P>|t|      [0.025      0.975]\n",
              "------------------------------------------------------------------------------\n",
              "const         -8.5256      0.608    -14.033      0.000      -9.720      -7.331\n",
              "TRANS_SIZE     1.3261      0.091     14.637      0.000       1.148       1.504\n",
              "==============================================================================\n",
              "Omnibus:                        0.552   Durbin-Watson:                   1.674\n",
              "Prob(Omnibus):                  0.759   Jarque-Bera (JB):                0.356\n",
              "Skew:                           0.001   Prob(JB):                        0.837\n",
              "Kurtosis:                       3.141   Cond. No.                         78.2\n",
              "==============================================================================\n",
              "\n",
              "Warnings:\n",
              "[1] Standard Errors assume that the covariance matrix of the errors is correctly specified.\n",
              "\"\"\""
            ]
          },
          "metadata": {},
          "execution_count": 180
        }
      ]
    },
    {
      "cell_type": "code",
      "source": [
        "def MLE(parameters):\n",
        "  bias, slope, sd = parameters\n",
        "  prediction = bias + slope*cleandata1.TRANS_SIZE\n",
        "  prob = np.sum(stats.norm.logpdf(cleandata1.TRANS_PRICE, prediction, sd))\n",
        "  negprob = -1*prob\n",
        "  return negprob\n",
        "\n",
        "mlelinearmodel = minimize(MLE, np.array([2,2,2]), method='L-BFGS-B')\n",
        "mlelinearmodel"
      ],
      "metadata": {
        "colab": {
          "base_uri": "https://localhost:8080/"
        },
        "id": "DSxiOTRmnapd",
        "outputId": "3325e0eb-0793-4c93-9560-5081968c7b16"
      },
      "execution_count": null,
      "outputs": [
        {
          "output_type": "execute_result",
          "data": {
            "text/plain": [
              "      fun: 651.5056005319066\n",
              " hess_inv: <3x3 LbfgsInvHessProduct with dtype=float64>\n",
              "      jac: array([ 0.00025011,  0.00059117, -0.00097771])\n",
              "  message: b'CONVERGENCE: REL_REDUCTION_OF_F_<=_FACTR*EPSMCH'\n",
              "     nfev: 112\n",
              "      nit: 25\n",
              "   status: 0\n",
              "  success: True\n",
              "        x: array([-8.52553879,  1.32607642,  1.10096769])"
            ]
          },
          "metadata": {},
          "execution_count": 181
        }
      ]
    },
    {
      "cell_type": "markdown",
      "source": [
        "####Multiple Linear Regression"
      ],
      "metadata": {
        "id": "2idOO-GqBZZO"
      }
    },
    {
      "cell_type": "code",
      "source": [
        "normalisedata = cleandata.copy()"
      ],
      "metadata": {
        "id": "ryaT3FMtGPY4"
      },
      "execution_count": null,
      "outputs": []
    },
    {
      "cell_type": "code",
      "source": [
        "normalisedata = normalisedata.drop(['WIDTH','PRICE','SIZE'],axis=1)"
      ],
      "metadata": {
        "id": "6RO9vAynGPIy"
      },
      "execution_count": null,
      "outputs": []
    },
    {
      "cell_type": "code",
      "source": [
        "normalisedata = (normalisedata - normalisedata.mean())/normalisedata.std()\n",
        "normalisedata.describe()"
      ],
      "metadata": {
        "colab": {
          "base_uri": "https://localhost:8080/",
          "height": 300
        },
        "id": "IW7g3s1-GkBj",
        "outputId": "54054e93-d0d2-4b1a-f275-7c20a2fc6755"
      },
      "execution_count": null,
      "outputs": [
        {
          "output_type": "execute_result",
          "data": {
            "text/html": [
              "\n",
              "  <div id=\"df-764d6ac9-bec1-437f-90e4-6a4cf218e213\">\n",
              "    <div class=\"colab-df-container\">\n",
              "      <div>\n",
              "<style scoped>\n",
              "    .dataframe tbody tr th:only-of-type {\n",
              "        vertical-align: middle;\n",
              "    }\n",
              "\n",
              "    .dataframe tbody tr th {\n",
              "        vertical-align: top;\n",
              "    }\n",
              "\n",
              "    .dataframe thead th {\n",
              "        text-align: right;\n",
              "    }\n",
              "</style>\n",
              "<table border=\"1\" class=\"dataframe\">\n",
              "  <thead>\n",
              "    <tr style=\"text-align: right;\">\n",
              "      <th></th>\n",
              "      <th>HEIGHT</th>\n",
              "      <th>TRANS_SIZE</th>\n",
              "    </tr>\n",
              "  </thead>\n",
              "  <tbody>\n",
              "    <tr>\n",
              "      <th>count</th>\n",
              "      <td>4.300000e+02</td>\n",
              "      <td>4.300000e+02</td>\n",
              "    </tr>\n",
              "    <tr>\n",
              "      <th>mean</th>\n",
              "      <td>-2.272794e-15</td>\n",
              "      <td>-3.059197e-15</td>\n",
              "    </tr>\n",
              "    <tr>\n",
              "      <th>std</th>\n",
              "      <td>1.000000e+00</td>\n",
              "      <td>1.000000e+00</td>\n",
              "    </tr>\n",
              "    <tr>\n",
              "      <th>min</th>\n",
              "      <td>-2.351881e+00</td>\n",
              "      <td>-5.810292e+00</td>\n",
              "    </tr>\n",
              "    <tr>\n",
              "      <th>25%</th>\n",
              "      <td>-4.478529e-01</td>\n",
              "      <td>-3.772893e-01</td>\n",
              "    </tr>\n",
              "    <tr>\n",
              "      <th>50%</th>\n",
              "      <td>-2.027309e-01</td>\n",
              "      <td>4.273549e-02</td>\n",
              "    </tr>\n",
              "    <tr>\n",
              "      <th>75%</th>\n",
              "      <td>3.766483e-01</td>\n",
              "      <td>4.482852e-01</td>\n",
              "    </tr>\n",
              "    <tr>\n",
              "      <th>max</th>\n",
              "      <td>5.056250e+00</td>\n",
              "      <td>3.487928e+00</td>\n",
              "    </tr>\n",
              "  </tbody>\n",
              "</table>\n",
              "</div>\n",
              "      <button class=\"colab-df-convert\" onclick=\"convertToInteractive('df-764d6ac9-bec1-437f-90e4-6a4cf218e213')\"\n",
              "              title=\"Convert this dataframe to an interactive table.\"\n",
              "              style=\"display:none;\">\n",
              "        \n",
              "  <svg xmlns=\"http://www.w3.org/2000/svg\" height=\"24px\"viewBox=\"0 0 24 24\"\n",
              "       width=\"24px\">\n",
              "    <path d=\"M0 0h24v24H0V0z\" fill=\"none\"/>\n",
              "    <path d=\"M18.56 5.44l.94 2.06.94-2.06 2.06-.94-2.06-.94-.94-2.06-.94 2.06-2.06.94zm-11 1L8.5 8.5l.94-2.06 2.06-.94-2.06-.94L8.5 2.5l-.94 2.06-2.06.94zm10 10l.94 2.06.94-2.06 2.06-.94-2.06-.94-.94-2.06-.94 2.06-2.06.94z\"/><path d=\"M17.41 7.96l-1.37-1.37c-.4-.4-.92-.59-1.43-.59-.52 0-1.04.2-1.43.59L10.3 9.45l-7.72 7.72c-.78.78-.78 2.05 0 2.83L4 21.41c.39.39.9.59 1.41.59.51 0 1.02-.2 1.41-.59l7.78-7.78 2.81-2.81c.8-.78.8-2.07 0-2.86zM5.41 20L4 18.59l7.72-7.72 1.47 1.35L5.41 20z\"/>\n",
              "  </svg>\n",
              "      </button>\n",
              "      \n",
              "  <style>\n",
              "    .colab-df-container {\n",
              "      display:flex;\n",
              "      flex-wrap:wrap;\n",
              "      gap: 12px;\n",
              "    }\n",
              "\n",
              "    .colab-df-convert {\n",
              "      background-color: #E8F0FE;\n",
              "      border: none;\n",
              "      border-radius: 50%;\n",
              "      cursor: pointer;\n",
              "      display: none;\n",
              "      fill: #1967D2;\n",
              "      height: 32px;\n",
              "      padding: 0 0 0 0;\n",
              "      width: 32px;\n",
              "    }\n",
              "\n",
              "    .colab-df-convert:hover {\n",
              "      background-color: #E2EBFA;\n",
              "      box-shadow: 0px 1px 2px rgba(60, 64, 67, 0.3), 0px 1px 3px 1px rgba(60, 64, 67, 0.15);\n",
              "      fill: #174EA6;\n",
              "    }\n",
              "\n",
              "    [theme=dark] .colab-df-convert {\n",
              "      background-color: #3B4455;\n",
              "      fill: #D2E3FC;\n",
              "    }\n",
              "\n",
              "    [theme=dark] .colab-df-convert:hover {\n",
              "      background-color: #434B5C;\n",
              "      box-shadow: 0px 1px 3px 1px rgba(0, 0, 0, 0.15);\n",
              "      filter: drop-shadow(0px 1px 2px rgba(0, 0, 0, 0.3));\n",
              "      fill: #FFFFFF;\n",
              "    }\n",
              "  </style>\n",
              "\n",
              "      <script>\n",
              "        const buttonEl =\n",
              "          document.querySelector('#df-764d6ac9-bec1-437f-90e4-6a4cf218e213 button.colab-df-convert');\n",
              "        buttonEl.style.display =\n",
              "          google.colab.kernel.accessAllowed ? 'block' : 'none';\n",
              "\n",
              "        async function convertToInteractive(key) {\n",
              "          const element = document.querySelector('#df-764d6ac9-bec1-437f-90e4-6a4cf218e213');\n",
              "          const dataTable =\n",
              "            await google.colab.kernel.invokeFunction('convertToInteractive',\n",
              "                                                     [key], {});\n",
              "          if (!dataTable) return;\n",
              "\n",
              "          const docLinkHtml = 'Like what you see? Visit the ' +\n",
              "            '<a target=\"_blank\" href=https://colab.research.google.com/notebooks/data_table.ipynb>data table notebook</a>'\n",
              "            + ' to learn more about interactive tables.';\n",
              "          element.innerHTML = '';\n",
              "          dataTable['output_type'] = 'display_data';\n",
              "          await google.colab.output.renderOutput(dataTable, element);\n",
              "          const docLink = document.createElement('div');\n",
              "          docLink.innerHTML = docLinkHtml;\n",
              "          element.appendChild(docLink);\n",
              "        }\n",
              "      </script>\n",
              "    </div>\n",
              "  </div>\n",
              "  "
            ],
            "text/plain": [
              "             HEIGHT    TRANS_SIZE\n",
              "count  4.300000e+02  4.300000e+02\n",
              "mean  -2.272794e-15 -3.059197e-15\n",
              "std    1.000000e+00  1.000000e+00\n",
              "min   -2.351881e+00 -5.810292e+00\n",
              "25%   -4.478529e-01 -3.772893e-01\n",
              "50%   -2.027309e-01  4.273549e-02\n",
              "75%    3.766483e-01  4.482852e-01\n",
              "max    5.056250e+00  3.487928e+00"
            ]
          },
          "metadata": {},
          "execution_count": 172
        }
      ]
    },
    {
      "cell_type": "code",
      "source": [
        "y = cleandata['PRICE'].values\n",
        "x = normalisedata[['HEIGHT','TRANS_SIZE']].values"
      ],
      "metadata": {
        "id": "LKr1vYLj_85I"
      },
      "execution_count": null,
      "outputs": []
    },
    {
      "cell_type": "code",
      "source": [
        "x_train, x_test, y_train, y_test = train_test_split(x, y, test_size=0.3, random_state=42)"
      ],
      "metadata": {
        "id": "Z1CQLOXB_8w8"
      },
      "execution_count": null,
      "outputs": []
    },
    {
      "cell_type": "code",
      "source": [
        "multilinearmodel = linear_model.LinearRegression()\n",
        "multilinearmodel.fit(x_train, y_train)\n",
        "predicted_y = multilinearmodel.predict(x_test)"
      ],
      "metadata": {
        "id": "hbOADrHH_8nd"
      },
      "execution_count": null,
      "outputs": []
    },
    {
      "cell_type": "code",
      "source": [
        "multilinearmodel.intercept_"
      ],
      "metadata": {
        "colab": {
          "base_uri": "https://localhost:8080/"
        },
        "id": "hQ_qbcik_8bG",
        "outputId": "cfb1cf26-0d84-4fef-f22a-783b6aaf2bc0"
      },
      "execution_count": null,
      "outputs": [
        {
          "output_type": "execute_result",
          "data": {
            "text/plain": [
              "3.265434758022821"
            ]
          },
          "metadata": {},
          "execution_count": 176
        }
      ]
    },
    {
      "cell_type": "code",
      "source": [
        "multilinearmodel.coef_"
      ],
      "metadata": {
        "colab": {
          "base_uri": "https://localhost:8080/"
        },
        "id": "71NXNg9W_8SG",
        "outputId": "41acde39-ac73-4599-9e72-48eeb4e72d2a"
      },
      "execution_count": null,
      "outputs": [
        {
          "output_type": "execute_result",
          "data": {
            "text/plain": [
              "array([0.10969073, 1.60769129])"
            ]
          },
          "metadata": {},
          "execution_count": 177
        }
      ]
    },
    {
      "cell_type": "code",
      "source": [
        "mean_absolute_error = metrics.mean_absolute_error(y_test, predicted_y)\n",
        "rmse = metrics.mean_squared_error(y_test, predicted_y)\n",
        "r2 = metrics.r2_score(y_test, predicted_y)\n",
        "print(\"Mean Absolute Error :\" , mean_absolute_error)\n",
        "print(\"Root Mean Square Error :\" , rmse)\n",
        "print(\"R Square Error:\", r2)"
      ],
      "metadata": {
        "colab": {
          "base_uri": "https://localhost:8080/"
        },
        "id": "KdYfcsLW_8AU",
        "outputId": "d2adde4a-7c43-422b-d45c-bf282d3bfbae"
      },
      "execution_count": null,
      "outputs": [
        {
          "output_type": "stream",
          "name": "stdout",
          "text": [
            "Mean Absolute Error : 2.4492930220539546\n",
            "Root Mean Square Error : 15.16855581153919\n",
            "R Square Error: 0.09527968572082923\n"
          ]
        }
      ]
    }
  ]
}